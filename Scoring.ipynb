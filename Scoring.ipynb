{
 "cells": [
  {
   "cell_type": "code",
   "execution_count": 97,
   "id": "a7d3d857-6005-4a2b-8162-15110221be5c",
   "metadata": {},
   "outputs": [],
   "source": [
    "import pandas as pd\n",
    "import numpy as np\n",
    "\n",
    "\n",
    "import sklearn as skl\n",
    "from sklearn.model_selection import train_test_split, StratifiedKFold, GridSearchCV\n",
    "from sklearn.linear_model import LogisticRegression\n",
    "from sklearn.metrics import precision_score, recall_score,auc,accuracy_score,roc_auc_score,f1_score,log_loss,classification_report, roc_curve\n",
    "\n",
    "\n",
    "import seaborn as sns\n",
    "import matplotlib.pyplot as plt\n",
    "\n",
    "import warnings\n",
    "warnings.filterwarnings(\"ignore\");"
   ]
  },
  {
   "cell_type": "code",
   "execution_count": 33,
   "id": "de2524d3-5ad7-47a5-8ca6-41237fedfee5",
   "metadata": {},
   "outputs": [
    {
     "data": {
      "text/html": [
       "<div>\n",
       "<style scoped>\n",
       "    .dataframe tbody tr th:only-of-type {\n",
       "        vertical-align: middle;\n",
       "    }\n",
       "\n",
       "    .dataframe tbody tr th {\n",
       "        vertical-align: top;\n",
       "    }\n",
       "\n",
       "    .dataframe thead th {\n",
       "        text-align: right;\n",
       "    }\n",
       "</style>\n",
       "<table border=\"1\" class=\"dataframe\">\n",
       "  <thead>\n",
       "    <tr style=\"text-align: right;\">\n",
       "      <th></th>\n",
       "      <th>client_id</th>\n",
       "      <th>app_date</th>\n",
       "      <th>education</th>\n",
       "      <th>sex</th>\n",
       "      <th>age</th>\n",
       "      <th>car</th>\n",
       "      <th>car_type</th>\n",
       "      <th>decline_app_cnt</th>\n",
       "      <th>good_work</th>\n",
       "      <th>score_bki</th>\n",
       "      <th>bki_request_cnt</th>\n",
       "      <th>region_rating</th>\n",
       "      <th>home_address</th>\n",
       "      <th>work_address</th>\n",
       "      <th>income</th>\n",
       "      <th>sna</th>\n",
       "      <th>first_time</th>\n",
       "      <th>foreign_passport</th>\n",
       "      <th>default</th>\n",
       "    </tr>\n",
       "  </thead>\n",
       "  <tbody>\n",
       "    <tr>\n",
       "      <th>0</th>\n",
       "      <td>25905</td>\n",
       "      <td>01FEB2014</td>\n",
       "      <td>SCH</td>\n",
       "      <td>M</td>\n",
       "      <td>62</td>\n",
       "      <td>Y</td>\n",
       "      <td>Y</td>\n",
       "      <td>0</td>\n",
       "      <td>0</td>\n",
       "      <td>-2.008753</td>\n",
       "      <td>1</td>\n",
       "      <td>50</td>\n",
       "      <td>1</td>\n",
       "      <td>2</td>\n",
       "      <td>18000</td>\n",
       "      <td>4</td>\n",
       "      <td>1</td>\n",
       "      <td>N</td>\n",
       "      <td>0</td>\n",
       "    </tr>\n",
       "    <tr>\n",
       "      <th>1</th>\n",
       "      <td>63161</td>\n",
       "      <td>12MAR2014</td>\n",
       "      <td>SCH</td>\n",
       "      <td>F</td>\n",
       "      <td>59</td>\n",
       "      <td>N</td>\n",
       "      <td>N</td>\n",
       "      <td>0</td>\n",
       "      <td>0</td>\n",
       "      <td>-1.532276</td>\n",
       "      <td>3</td>\n",
       "      <td>50</td>\n",
       "      <td>2</td>\n",
       "      <td>3</td>\n",
       "      <td>19000</td>\n",
       "      <td>4</td>\n",
       "      <td>1</td>\n",
       "      <td>N</td>\n",
       "      <td>0</td>\n",
       "    </tr>\n",
       "    <tr>\n",
       "      <th>2</th>\n",
       "      <td>25887</td>\n",
       "      <td>01FEB2014</td>\n",
       "      <td>SCH</td>\n",
       "      <td>M</td>\n",
       "      <td>25</td>\n",
       "      <td>Y</td>\n",
       "      <td>N</td>\n",
       "      <td>2</td>\n",
       "      <td>0</td>\n",
       "      <td>-1.408142</td>\n",
       "      <td>1</td>\n",
       "      <td>80</td>\n",
       "      <td>1</td>\n",
       "      <td>2</td>\n",
       "      <td>30000</td>\n",
       "      <td>1</td>\n",
       "      <td>4</td>\n",
       "      <td>Y</td>\n",
       "      <td>0</td>\n",
       "    </tr>\n",
       "    <tr>\n",
       "      <th>3</th>\n",
       "      <td>16222</td>\n",
       "      <td>23JAN2014</td>\n",
       "      <td>SCH</td>\n",
       "      <td>F</td>\n",
       "      <td>53</td>\n",
       "      <td>N</td>\n",
       "      <td>N</td>\n",
       "      <td>0</td>\n",
       "      <td>0</td>\n",
       "      <td>-2.057471</td>\n",
       "      <td>2</td>\n",
       "      <td>50</td>\n",
       "      <td>2</td>\n",
       "      <td>3</td>\n",
       "      <td>10000</td>\n",
       "      <td>1</td>\n",
       "      <td>3</td>\n",
       "      <td>N</td>\n",
       "      <td>0</td>\n",
       "    </tr>\n",
       "    <tr>\n",
       "      <th>4</th>\n",
       "      <td>101655</td>\n",
       "      <td>18APR2014</td>\n",
       "      <td>GRD</td>\n",
       "      <td>M</td>\n",
       "      <td>48</td>\n",
       "      <td>N</td>\n",
       "      <td>N</td>\n",
       "      <td>0</td>\n",
       "      <td>1</td>\n",
       "      <td>-1.244723</td>\n",
       "      <td>1</td>\n",
       "      <td>60</td>\n",
       "      <td>2</td>\n",
       "      <td>3</td>\n",
       "      <td>30000</td>\n",
       "      <td>1</td>\n",
       "      <td>4</td>\n",
       "      <td>Y</td>\n",
       "      <td>0</td>\n",
       "    </tr>\n",
       "  </tbody>\n",
       "</table>\n",
       "</div>"
      ],
      "text/plain": [
       "   client_id   app_date education sex  age car car_type  decline_app_cnt  \\\n",
       "0      25905  01FEB2014       SCH   M   62   Y        Y                0   \n",
       "1      63161  12MAR2014       SCH   F   59   N        N                0   \n",
       "2      25887  01FEB2014       SCH   M   25   Y        N                2   \n",
       "3      16222  23JAN2014       SCH   F   53   N        N                0   \n",
       "4     101655  18APR2014       GRD   M   48   N        N                0   \n",
       "\n",
       "   good_work  score_bki  bki_request_cnt  region_rating  home_address  \\\n",
       "0          0  -2.008753                1             50             1   \n",
       "1          0  -1.532276                3             50             2   \n",
       "2          0  -1.408142                1             80             1   \n",
       "3          0  -2.057471                2             50             2   \n",
       "4          1  -1.244723                1             60             2   \n",
       "\n",
       "   work_address  income  sna  first_time foreign_passport  default  \n",
       "0             2   18000    4           1                N        0  \n",
       "1             3   19000    4           1                N        0  \n",
       "2             2   30000    1           4                Y        0  \n",
       "3             3   10000    1           3                N        0  \n",
       "4             3   30000    1           4                Y        0  "
      ]
     },
     "execution_count": 33,
     "metadata": {},
     "output_type": "execute_result"
    }
   ],
   "source": [
    "df = pd.read_csv('data/train.csv')\n",
    "df.head()"
   ]
  },
  {
   "cell_type": "markdown",
   "id": "4e37fcdb-83f1-4774-b09d-87f418e576ca",
   "metadata": {},
   "source": [
    "EDUCATION\n",
    "- SCH - school, школьное образование\n",
    "\n",
    "- GRD - graduate, выпускник\n",
    "\n",
    "- UGR - undergraduates, старшекурсники\n",
    "\n",
    "- PGR - аспирант\n",
    "\n",
    "- ACD - академик"
   ]
  },
  {
   "cell_type": "code",
   "execution_count": 34,
   "id": "6a455f76-69ce-4537-ba7f-47f8b7cdb7ab",
   "metadata": {},
   "outputs": [
    {
     "name": "stdout",
     "output_type": "stream",
     "text": [
      "<class 'pandas.core.frame.DataFrame'>\n",
      "RangeIndex: 73799 entries, 0 to 73798\n",
      "Data columns (total 19 columns):\n",
      " #   Column            Non-Null Count  Dtype  \n",
      "---  ------            --------------  -----  \n",
      " 0   client_id         73799 non-null  int64  \n",
      " 1   app_date          73799 non-null  object \n",
      " 2   education         73492 non-null  object \n",
      " 3   sex               73799 non-null  object \n",
      " 4   age               73799 non-null  int64  \n",
      " 5   car               73799 non-null  object \n",
      " 6   car_type          73799 non-null  object \n",
      " 7   decline_app_cnt   73799 non-null  int64  \n",
      " 8   good_work         73799 non-null  int64  \n",
      " 9   score_bki         73799 non-null  float64\n",
      " 10  bki_request_cnt   73799 non-null  int64  \n",
      " 11  region_rating     73799 non-null  int64  \n",
      " 12  home_address      73799 non-null  int64  \n",
      " 13  work_address      73799 non-null  int64  \n",
      " 14  income            73799 non-null  int64  \n",
      " 15  sna               73799 non-null  int64  \n",
      " 16  first_time        73799 non-null  int64  \n",
      " 17  foreign_passport  73799 non-null  object \n",
      " 18  default           73799 non-null  int64  \n",
      "dtypes: float64(1), int64(12), object(6)\n",
      "memory usage: 10.7+ MB\n"
     ]
    }
   ],
   "source": [
    "df.info()"
   ]
  },
  {
   "cell_type": "code",
   "execution_count": 35,
   "id": "363b02d6-b89d-411b-aa3d-b4af7f0b5659",
   "metadata": {},
   "outputs": [
    {
     "data": {
      "text/plain": [
       "307"
      ]
     },
     "execution_count": 35,
     "metadata": {},
     "output_type": "execute_result"
    }
   ],
   "source": [
    "df['education'].isnull().sum()"
   ]
  },
  {
   "cell_type": "code",
   "execution_count": 36,
   "id": "cac6460e-582d-43a1-9fd4-0bda39e9833f",
   "metadata": {},
   "outputs": [],
   "source": [
    "e_mode = df.education.mode()[0]\n",
    "df['education'] = df.education.fillna(e_mode)"
   ]
  },
  {
   "cell_type": "code",
   "execution_count": 37,
   "id": "0b462964-74ae-4e17-addc-76547b26f8b1",
   "metadata": {},
   "outputs": [
    {
     "data": {
      "text/plain": [
       "0"
      ]
     },
     "execution_count": 37,
     "metadata": {},
     "output_type": "execute_result"
    }
   ],
   "source": [
    "df['education'].isnull().sum()"
   ]
  },
  {
   "cell_type": "code",
   "execution_count": 38,
   "id": "ade85127-753f-44b0-b056-f3a442315fdb",
   "metadata": {},
   "outputs": [
    {
     "data": {
      "text/html": [
       "<div>\n",
       "<style scoped>\n",
       "    .dataframe tbody tr th:only-of-type {\n",
       "        vertical-align: middle;\n",
       "    }\n",
       "\n",
       "    .dataframe tbody tr th {\n",
       "        vertical-align: top;\n",
       "    }\n",
       "\n",
       "    .dataframe thead th {\n",
       "        text-align: right;\n",
       "    }\n",
       "</style>\n",
       "<table border=\"1\" class=\"dataframe\">\n",
       "  <thead>\n",
       "    <tr style=\"text-align: right;\">\n",
       "      <th></th>\n",
       "      <th>client_id</th>\n",
       "      <th>age</th>\n",
       "      <th>decline_app_cnt</th>\n",
       "      <th>good_work</th>\n",
       "      <th>score_bki</th>\n",
       "      <th>bki_request_cnt</th>\n",
       "      <th>region_rating</th>\n",
       "      <th>home_address</th>\n",
       "      <th>work_address</th>\n",
       "      <th>income</th>\n",
       "      <th>sna</th>\n",
       "      <th>first_time</th>\n",
       "      <th>default</th>\n",
       "    </tr>\n",
       "  </thead>\n",
       "  <tbody>\n",
       "    <tr>\n",
       "      <th>count</th>\n",
       "      <td>73799.000000</td>\n",
       "      <td>73799.000000</td>\n",
       "      <td>73799.000000</td>\n",
       "      <td>73799.000000</td>\n",
       "      <td>73799.000000</td>\n",
       "      <td>73799.000000</td>\n",
       "      <td>73799.000000</td>\n",
       "      <td>73799.000000</td>\n",
       "      <td>73799.000000</td>\n",
       "      <td>73799.000000</td>\n",
       "      <td>73799.000000</td>\n",
       "      <td>73799.000000</td>\n",
       "      <td>73799.000000</td>\n",
       "    </tr>\n",
       "    <tr>\n",
       "      <th>mean</th>\n",
       "      <td>55137.965094</td>\n",
       "      <td>39.280641</td>\n",
       "      <td>0.275749</td>\n",
       "      <td>0.164894</td>\n",
       "      <td>-1.904724</td>\n",
       "      <td>2.000339</td>\n",
       "      <td>56.725701</td>\n",
       "      <td>1.575509</td>\n",
       "      <td>2.496280</td>\n",
       "      <td>41099.775417</td>\n",
       "      <td>1.733330</td>\n",
       "      <td>2.765458</td>\n",
       "      <td>0.126994</td>\n",
       "    </tr>\n",
       "    <tr>\n",
       "      <th>std</th>\n",
       "      <td>31841.921168</td>\n",
       "      <td>11.520378</td>\n",
       "      <td>0.804272</td>\n",
       "      <td>0.371087</td>\n",
       "      <td>0.498231</td>\n",
       "      <td>2.252073</td>\n",
       "      <td>13.055717</td>\n",
       "      <td>0.527631</td>\n",
       "      <td>0.689818</td>\n",
       "      <td>46166.322400</td>\n",
       "      <td>1.123622</td>\n",
       "      <td>1.009463</td>\n",
       "      <td>0.332968</td>\n",
       "    </tr>\n",
       "    <tr>\n",
       "      <th>min</th>\n",
       "      <td>1.000000</td>\n",
       "      <td>21.000000</td>\n",
       "      <td>0.000000</td>\n",
       "      <td>0.000000</td>\n",
       "      <td>-3.624586</td>\n",
       "      <td>0.000000</td>\n",
       "      <td>20.000000</td>\n",
       "      <td>1.000000</td>\n",
       "      <td>1.000000</td>\n",
       "      <td>1000.000000</td>\n",
       "      <td>1.000000</td>\n",
       "      <td>1.000000</td>\n",
       "      <td>0.000000</td>\n",
       "    </tr>\n",
       "    <tr>\n",
       "      <th>25%</th>\n",
       "      <td>27440.500000</td>\n",
       "      <td>30.000000</td>\n",
       "      <td>0.000000</td>\n",
       "      <td>0.000000</td>\n",
       "      <td>-2.259534</td>\n",
       "      <td>0.000000</td>\n",
       "      <td>50.000000</td>\n",
       "      <td>1.000000</td>\n",
       "      <td>2.000000</td>\n",
       "      <td>20000.000000</td>\n",
       "      <td>1.000000</td>\n",
       "      <td>2.000000</td>\n",
       "      <td>0.000000</td>\n",
       "    </tr>\n",
       "    <tr>\n",
       "      <th>50%</th>\n",
       "      <td>55274.000000</td>\n",
       "      <td>37.000000</td>\n",
       "      <td>0.000000</td>\n",
       "      <td>0.000000</td>\n",
       "      <td>-1.920823</td>\n",
       "      <td>1.000000</td>\n",
       "      <td>50.000000</td>\n",
       "      <td>2.000000</td>\n",
       "      <td>3.000000</td>\n",
       "      <td>30000.000000</td>\n",
       "      <td>1.000000</td>\n",
       "      <td>3.000000</td>\n",
       "      <td>0.000000</td>\n",
       "    </tr>\n",
       "    <tr>\n",
       "      <th>75%</th>\n",
       "      <td>82758.500000</td>\n",
       "      <td>48.000000</td>\n",
       "      <td>0.000000</td>\n",
       "      <td>0.000000</td>\n",
       "      <td>-1.569831</td>\n",
       "      <td>3.000000</td>\n",
       "      <td>60.000000</td>\n",
       "      <td>2.000000</td>\n",
       "      <td>3.000000</td>\n",
       "      <td>48000.000000</td>\n",
       "      <td>2.000000</td>\n",
       "      <td>4.000000</td>\n",
       "      <td>0.000000</td>\n",
       "    </tr>\n",
       "    <tr>\n",
       "      <th>max</th>\n",
       "      <td>110147.000000</td>\n",
       "      <td>72.000000</td>\n",
       "      <td>33.000000</td>\n",
       "      <td>1.000000</td>\n",
       "      <td>0.199773</td>\n",
       "      <td>53.000000</td>\n",
       "      <td>80.000000</td>\n",
       "      <td>3.000000</td>\n",
       "      <td>3.000000</td>\n",
       "      <td>1000000.000000</td>\n",
       "      <td>4.000000</td>\n",
       "      <td>4.000000</td>\n",
       "      <td>1.000000</td>\n",
       "    </tr>\n",
       "  </tbody>\n",
       "</table>\n",
       "</div>"
      ],
      "text/plain": [
       "           client_id           age  decline_app_cnt     good_work  \\\n",
       "count   73799.000000  73799.000000     73799.000000  73799.000000   \n",
       "mean    55137.965094     39.280641         0.275749      0.164894   \n",
       "std     31841.921168     11.520378         0.804272      0.371087   \n",
       "min         1.000000     21.000000         0.000000      0.000000   \n",
       "25%     27440.500000     30.000000         0.000000      0.000000   \n",
       "50%     55274.000000     37.000000         0.000000      0.000000   \n",
       "75%     82758.500000     48.000000         0.000000      0.000000   \n",
       "max    110147.000000     72.000000        33.000000      1.000000   \n",
       "\n",
       "          score_bki  bki_request_cnt  region_rating  home_address  \\\n",
       "count  73799.000000     73799.000000   73799.000000  73799.000000   \n",
       "mean      -1.904724         2.000339      56.725701      1.575509   \n",
       "std        0.498231         2.252073      13.055717      0.527631   \n",
       "min       -3.624586         0.000000      20.000000      1.000000   \n",
       "25%       -2.259534         0.000000      50.000000      1.000000   \n",
       "50%       -1.920823         1.000000      50.000000      2.000000   \n",
       "75%       -1.569831         3.000000      60.000000      2.000000   \n",
       "max        0.199773        53.000000      80.000000      3.000000   \n",
       "\n",
       "       work_address          income           sna    first_time       default  \n",
       "count  73799.000000    73799.000000  73799.000000  73799.000000  73799.000000  \n",
       "mean       2.496280    41099.775417      1.733330      2.765458      0.126994  \n",
       "std        0.689818    46166.322400      1.123622      1.009463      0.332968  \n",
       "min        1.000000     1000.000000      1.000000      1.000000      0.000000  \n",
       "25%        2.000000    20000.000000      1.000000      2.000000      0.000000  \n",
       "50%        3.000000    30000.000000      1.000000      3.000000      0.000000  \n",
       "75%        3.000000    48000.000000      2.000000      4.000000      0.000000  \n",
       "max        3.000000  1000000.000000      4.000000      4.000000      1.000000  "
      ]
     },
     "execution_count": 38,
     "metadata": {},
     "output_type": "execute_result"
    }
   ],
   "source": [
    "df.describe()"
   ]
  },
  {
   "cell_type": "code",
   "execution_count": 39,
   "id": "bf668135-0a5c-4930-8a8c-009ea3de952a",
   "metadata": {},
   "outputs": [],
   "source": [
    "df[['home_address','work_address']] = df[['home_address','work_address']].astype(object)"
   ]
  },
  {
   "cell_type": "code",
   "execution_count": 40,
   "id": "d9bd946e-a2f5-4965-9e36-9226016f3192",
   "metadata": {},
   "outputs": [
    {
     "data": {
      "text/html": [
       "<div>\n",
       "<style scoped>\n",
       "    .dataframe tbody tr th:only-of-type {\n",
       "        vertical-align: middle;\n",
       "    }\n",
       "\n",
       "    .dataframe tbody tr th {\n",
       "        vertical-align: top;\n",
       "    }\n",
       "\n",
       "    .dataframe thead th {\n",
       "        text-align: right;\n",
       "    }\n",
       "</style>\n",
       "<table border=\"1\" class=\"dataframe\">\n",
       "  <thead>\n",
       "    <tr style=\"text-align: right;\">\n",
       "      <th></th>\n",
       "      <th>app_date</th>\n",
       "      <th>education</th>\n",
       "      <th>sex</th>\n",
       "      <th>car</th>\n",
       "      <th>car_type</th>\n",
       "      <th>home_address</th>\n",
       "      <th>work_address</th>\n",
       "      <th>foreign_passport</th>\n",
       "    </tr>\n",
       "  </thead>\n",
       "  <tbody>\n",
       "    <tr>\n",
       "      <th>count</th>\n",
       "      <td>73799</td>\n",
       "      <td>73799</td>\n",
       "      <td>73799</td>\n",
       "      <td>73799</td>\n",
       "      <td>73799</td>\n",
       "      <td>73799</td>\n",
       "      <td>73799</td>\n",
       "      <td>73799</td>\n",
       "    </tr>\n",
       "    <tr>\n",
       "      <th>unique</th>\n",
       "      <td>120</td>\n",
       "      <td>5</td>\n",
       "      <td>2</td>\n",
       "      <td>2</td>\n",
       "      <td>2</td>\n",
       "      <td>3</td>\n",
       "      <td>3</td>\n",
       "      <td>2</td>\n",
       "    </tr>\n",
       "    <tr>\n",
       "      <th>top</th>\n",
       "      <td>18MAR2014</td>\n",
       "      <td>SCH</td>\n",
       "      <td>F</td>\n",
       "      <td>N</td>\n",
       "      <td>N</td>\n",
       "      <td>2</td>\n",
       "      <td>3</td>\n",
       "      <td>N</td>\n",
       "    </tr>\n",
       "    <tr>\n",
       "      <th>freq</th>\n",
       "      <td>1018</td>\n",
       "      <td>39167</td>\n",
       "      <td>41562</td>\n",
       "      <td>49832</td>\n",
       "      <td>59791</td>\n",
       "      <td>39956</td>\n",
       "      <td>44959</td>\n",
       "      <td>62733</td>\n",
       "    </tr>\n",
       "  </tbody>\n",
       "</table>\n",
       "</div>"
      ],
      "text/plain": [
       "         app_date education    sex    car car_type  home_address  \\\n",
       "count       73799     73799  73799  73799    73799         73799   \n",
       "unique        120         5      2      2        2             3   \n",
       "top     18MAR2014       SCH      F      N        N             2   \n",
       "freq         1018     39167  41562  49832    59791         39956   \n",
       "\n",
       "        work_address foreign_passport  \n",
       "count          73799            73799  \n",
       "unique             3                2  \n",
       "top                3                N  \n",
       "freq           44959            62733  "
      ]
     },
     "execution_count": 40,
     "metadata": {},
     "output_type": "execute_result"
    }
   ],
   "source": [
    "df.describe(include = object)"
   ]
  },
  {
   "cell_type": "code",
   "execution_count": 41,
   "id": "45b53f2e-67d9-4156-892d-eb8285169fdc",
   "metadata": {},
   "outputs": [
    {
     "data": {
      "text/html": [
       "<div>\n",
       "<style scoped>\n",
       "    .dataframe tbody tr th:only-of-type {\n",
       "        vertical-align: middle;\n",
       "    }\n",
       "\n",
       "    .dataframe tbody tr th {\n",
       "        vertical-align: top;\n",
       "    }\n",
       "\n",
       "    .dataframe thead th {\n",
       "        text-align: right;\n",
       "    }\n",
       "</style>\n",
       "<table border=\"1\" class=\"dataframe\">\n",
       "  <thead>\n",
       "    <tr style=\"text-align: right;\">\n",
       "      <th></th>\n",
       "      <th>client_id</th>\n",
       "      <th>age</th>\n",
       "      <th>decline_app_cnt</th>\n",
       "      <th>good_work</th>\n",
       "      <th>score_bki</th>\n",
       "      <th>bki_request_cnt</th>\n",
       "      <th>region_rating</th>\n",
       "      <th>income</th>\n",
       "      <th>sna</th>\n",
       "      <th>first_time</th>\n",
       "    </tr>\n",
       "    <tr>\n",
       "      <th>default</th>\n",
       "      <th></th>\n",
       "      <th></th>\n",
       "      <th></th>\n",
       "      <th></th>\n",
       "      <th></th>\n",
       "      <th></th>\n",
       "      <th></th>\n",
       "      <th></th>\n",
       "      <th></th>\n",
       "      <th></th>\n",
       "    </tr>\n",
       "  </thead>\n",
       "  <tbody>\n",
       "    <tr>\n",
       "      <th>0</th>\n",
       "      <td>55614.538082</td>\n",
       "      <td>39.390504</td>\n",
       "      <td>0.240877</td>\n",
       "      <td>0.171031</td>\n",
       "      <td>-1.938048</td>\n",
       "      <td>1.933134</td>\n",
       "      <td>57.169044</td>\n",
       "      <td>41799.713288</td>\n",
       "      <td>1.679405</td>\n",
       "      <td>2.806106</td>\n",
       "    </tr>\n",
       "    <tr>\n",
       "      <th>1</th>\n",
       "      <td>51861.805484</td>\n",
       "      <td>38.525395</td>\n",
       "      <td>0.515472</td>\n",
       "      <td>0.122706</td>\n",
       "      <td>-1.675637</td>\n",
       "      <td>2.462335</td>\n",
       "      <td>53.677977</td>\n",
       "      <td>36288.113316</td>\n",
       "      <td>2.104033</td>\n",
       "      <td>2.486022</td>\n",
       "    </tr>\n",
       "  </tbody>\n",
       "</table>\n",
       "</div>"
      ],
      "text/plain": [
       "            client_id        age  decline_app_cnt  good_work  score_bki  \\\n",
       "default                                                                   \n",
       "0        55614.538082  39.390504         0.240877   0.171031  -1.938048   \n",
       "1        51861.805484  38.525395         0.515472   0.122706  -1.675637   \n",
       "\n",
       "         bki_request_cnt  region_rating        income       sna  first_time  \n",
       "default                                                                      \n",
       "0               1.933134      57.169044  41799.713288  1.679405    2.806106  \n",
       "1               2.462335      53.677977  36288.113316  2.104033    2.486022  "
      ]
     },
     "execution_count": 41,
     "metadata": {},
     "output_type": "execute_result"
    }
   ],
   "source": [
    "df.groupby('default').agg('mean')"
   ]
  },
  {
   "cell_type": "markdown",
   "id": "c1c9cbf5-ebd5-47d0-837f-80fbf5fb6848",
   "metadata": {},
   "source": [
    "EDA:\n",
    "-"
   ]
  },
  {
   "cell_type": "markdown",
   "id": "1eea2385-2aa3-48eb-89bb-a6395ea591e7",
   "metadata": {},
   "source": [
    "Гипотезы:\n",
    "- Возраст \"хороших\" заемщиков больше, по сравнению с \"плохими\" (распределения возраста в зависимости от флага дефолта смещено в большую сторону при default=0)\n",
    "- Уровень образования зависит от возраста, что влияет и на возврат кредита, также люди с высшим образованием чаще являются \"хорошими\" заемщиками\n",
    "- При good_work = 0 увеличивается риск невозврата кредита (флаг дефолта)\n",
    "- Доход \"хороших\" заемщиков больше, по сравнению с \"плохими\" (распределения дохода в зависимости от флага дефолта смещено в большую сторону при default=0)\n",
    "- score_bki напрямую взаимосвязан с default, чем он меньше, тем выше вероятность клиента выплатить кредит банку\n",
    "- score_bki связан с доходом\n",
    "- Люди с загран паспартом\n",
    "- Наличие загран паспорта завист от образования\n",
    "- Если есть загран паспорт то человек является \"хорошим\" заёмщиком\n",
    "- При наличии иномарки, вероятность возрата кредита возрастает \n",
    "- sna завист от score_bki\n",
    "- чем ниже first_time тем с большей вероятностью человек старше \n",
    "- зависимость \"хоршей\" работы от sna"
   ]
  },
  {
   "cell_type": "markdown",
   "id": "7ab77632-565b-486a-b59f-3525fe1b9a3b",
   "metadata": {},
   "source": [
    "# Целевая перемнная"
   ]
  },
  {
   "cell_type": "code",
   "execution_count": 42,
   "id": "13b9aaf2-75e5-4986-a7ba-da2b076b3663",
   "metadata": {},
   "outputs": [
    {
     "data": {
      "image/png": "[encoded data removed]",
      "text/plain": [
       "<Figure size 1080x504 with 1 Axes>"
      ]
     },
     "metadata": {
      "needs_background": "light"
     },
     "output_type": "display_data"
    }
   ],
   "source": [
    "norm_target = (df\n",
    "               .default\n",
    "               .value_counts(normalize=True)\n",
    "               .mul(100)\n",
    "               .rename('percent')\n",
    "               .reset_index())\n",
    "\n",
    "plt.figure(figsize=(15, 7))\n",
    "ax = sns.barplot(x='index', y='percent', data=norm_target)\n",
    "\n",
    "for p in ax.patches:\n",
    "    percentage = '{:.1f}%'.format(p.get_height())\n",
    "    ax.annotate(percentage,  # текст\n",
    "                (p.get_x() + p.get_width() / 2., p.get_height()),  # координата xy\n",
    "                ha='center', # центрирование\n",
    "                va='center',\n",
    "                xytext=(0, 10),\n",
    "                textcoords='offset points', # точка смещения относительно координаты\n",
    "                fontsize=14)\n",
    "\n",
    "plt.title('Default', fontsize=20)\n",
    "\n",
    "plt.xlabel('default', fontsize=14)\n",
    "plt.ylabel('Проценты', fontsize=14)\n",
    "\n",
    "plt.xticks(fontsize=14)\n",
    "plt.yticks(fontsize=14);\n"
   ]
  },
  {
   "cell_type": "markdown",
   "id": "3e508338-dff6-4995-9fb7-204b5cd10b0f",
   "metadata": {},
   "source": [
    "Явный дисбаланс классов"
   ]
  },
  {
   "cell_type": "markdown",
   "id": "bac8b1ca-3424-46d0-b99b-729a90094b2b",
   "metadata": {},
   "source": [
    "# 1 Age"
   ]
  },
  {
   "cell_type": "code",
   "execution_count": 43,
   "id": "8324929c-0b56-4008-b162-2cefb6520cbf",
   "metadata": {},
   "outputs": [
    {
     "data": {
      "text/plain": [
       "Text(1.7401822916666632, 0.5, 'Density')"
      ]
     },
     "execution_count": 43,
     "metadata": {},
     "output_type": "execute_result"
    },
    {
     "data": {
      "image/png": "[encoded data removed]",
      "text/plain": [
       "<Figure size 440.875x360 with 1 Axes>"
      ]
     },
     "metadata": {
      "needs_background": "light"
     },
     "output_type": "display_data"
    }
   ],
   "source": [
    "sns.displot({\n",
    "    'default 0': df[df.default == 0].age,\n",
    "    'default 1': df[df.default == 1].age\n",
    "    },kind=\"kde\", common_norm=False)\n",
    "plt.title('Age')\n",
    "plt.xlabel('Age')\n",
    "plt.ylabel('Density')"
   ]
  },
  {
   "cell_type": "code",
   "execution_count": 44,
   "id": "49ab4c27-3754-4bc8-9748-2d7d2004296d",
   "metadata": {},
   "outputs": [
    {
     "data": {
      "text/html": [
       "<div>\n",
       "<style scoped>\n",
       "    .dataframe tbody tr th:only-of-type {\n",
       "        vertical-align: middle;\n",
       "    }\n",
       "\n",
       "    .dataframe tbody tr th {\n",
       "        vertical-align: top;\n",
       "    }\n",
       "\n",
       "    .dataframe thead th {\n",
       "        text-align: right;\n",
       "    }\n",
       "</style>\n",
       "<table border=\"1\" class=\"dataframe\">\n",
       "  <thead>\n",
       "    <tr style=\"text-align: right;\">\n",
       "      <th></th>\n",
       "      <th>default</th>\n",
       "      <th>mean_age</th>\n",
       "    </tr>\n",
       "  </thead>\n",
       "  <tbody>\n",
       "    <tr>\n",
       "      <th>0</th>\n",
       "      <td>0</td>\n",
       "      <td>39.390504</td>\n",
       "    </tr>\n",
       "    <tr>\n",
       "      <th>1</th>\n",
       "      <td>1</td>\n",
       "      <td>38.525395</td>\n",
       "    </tr>\n",
       "  </tbody>\n",
       "</table>\n",
       "</div>"
      ],
      "text/plain": [
       "   default   mean_age\n",
       "0        0  39.390504\n",
       "1        1  38.525395"
      ]
     },
     "execution_count": 44,
     "metadata": {},
     "output_type": "execute_result"
    }
   ],
   "source": [
    "df.groupby('default').agg({'age':'mean'}).reset_index().rename(columns={'age':'mean_age'})"
   ]
  },
  {
   "cell_type": "code",
   "execution_count": 45,
   "id": "8a05995e-f698-4aee-a2a6-1b50b9ba259d",
   "metadata": {},
   "outputs": [
    {
     "data": {
      "text/html": [
       "<div>\n",
       "<style scoped>\n",
       "    .dataframe tbody tr th:only-of-type {\n",
       "        vertical-align: middle;\n",
       "    }\n",
       "\n",
       "    .dataframe tbody tr th {\n",
       "        vertical-align: top;\n",
       "    }\n",
       "\n",
       "    .dataframe thead th {\n",
       "        text-align: right;\n",
       "    }\n",
       "</style>\n",
       "<table border=\"1\" class=\"dataframe\">\n",
       "  <thead>\n",
       "    <tr style=\"text-align: right;\">\n",
       "      <th></th>\n",
       "      <th>default</th>\n",
       "      <th>median</th>\n",
       "    </tr>\n",
       "  </thead>\n",
       "  <tbody>\n",
       "    <tr>\n",
       "      <th>0</th>\n",
       "      <td>0</td>\n",
       "      <td>38.0</td>\n",
       "    </tr>\n",
       "    <tr>\n",
       "      <th>1</th>\n",
       "      <td>1</td>\n",
       "      <td>36.0</td>\n",
       "    </tr>\n",
       "  </tbody>\n",
       "</table>\n",
       "</div>"
      ],
      "text/plain": [
       "   default  median\n",
       "0        0    38.0\n",
       "1        1    36.0"
      ]
     },
     "execution_count": 45,
     "metadata": {},
     "output_type": "execute_result"
    }
   ],
   "source": [
    "df.groupby('default').agg({'age':'median'}).reset_index().rename(columns={'age':'median'})"
   ]
  },
  {
   "cell_type": "code",
   "execution_count": 46,
   "id": "b4fa4f6e-14d9-424a-8a4d-edb8d3f1a302",
   "metadata": {},
   "outputs": [
    {
     "data": {
      "text/html": [
       "<div>\n",
       "<style scoped>\n",
       "    .dataframe tbody tr th:only-of-type {\n",
       "        vertical-align: middle;\n",
       "    }\n",
       "\n",
       "    .dataframe tbody tr th {\n",
       "        vertical-align: top;\n",
       "    }\n",
       "\n",
       "    .dataframe thead th {\n",
       "        text-align: right;\n",
       "    }\n",
       "</style>\n",
       "<table border=\"1\" class=\"dataframe\">\n",
       "  <thead>\n",
       "    <tr style=\"text-align: right;\">\n",
       "      <th></th>\n",
       "      <th>default</th>\n",
       "      <th>age</th>\n",
       "    </tr>\n",
       "  </thead>\n",
       "  <tbody>\n",
       "    <tr>\n",
       "      <th>0</th>\n",
       "      <td>0</td>\n",
       "      <td>31</td>\n",
       "    </tr>\n",
       "    <tr>\n",
       "      <th>1</th>\n",
       "      <td>1</td>\n",
       "      <td>26</td>\n",
       "    </tr>\n",
       "  </tbody>\n",
       "</table>\n",
       "</div>"
      ],
      "text/plain": [
       "   default  age\n",
       "0        0   31\n",
       "1        1   26"
      ]
     },
     "execution_count": 46,
     "metadata": {},
     "output_type": "execute_result"
    }
   ],
   "source": [
    "df.groupby('default')['age'].apply(lambda x: x.value_counts().index[0]).reset_index()"
   ]
  },
  {
   "cell_type": "markdown",
   "id": "6a3c322e-ee67-4327-a2b5-7a272ee6da1a",
   "metadata": {},
   "source": [
    " 1 Гипотеза подтвердилась возраст 'хороших' заёмщиков выше "
   ]
  },
  {
   "cell_type": "markdown",
   "id": "19d0afec-a812-4714-b411-9979f92bbab3",
   "metadata": {},
   "source": [
    "# 2 Education"
   ]
  },
  {
   "cell_type": "code",
   "execution_count": 47,
   "id": "39a4a5f3-6fce-414d-af76-31bf013e7887",
   "metadata": {},
   "outputs": [
    {
     "data": {
      "text/plain": [
       "Text(6.010494791666666, 0.5, 'Density')"
      ]
     },
     "execution_count": 47,
     "metadata": {},
     "output_type": "execute_result"
    },
    {
     "data": {
      "image/png": "[encoded data removed]",
      "text/plain": [
       "<Figure size 418.375x360 with 1 Axes>"
      ]
     },
     "metadata": {
      "needs_background": "light"
     },
     "output_type": "display_data"
    }
   ],
   "source": [
    "sns.displot({\n",
    "    'SCH': df[df.education == 'SCH'].age,\n",
    "    'GRD': df[df.education == 'GRD'].age,\n",
    "    'UGR': df[df.education == 'UGR'].age,\n",
    "    'PGR': df[df.education == 'PGR'].age,\n",
    "    'ACD': df[df.education == 'ACD'].age\n",
    "    },kind=\"kde\", common_norm=False)\n",
    "\n",
    "plt.title('education_age')\n",
    "plt.xlabel('Age')\n",
    "plt.ylabel('Density')"
   ]
  },
  {
   "cell_type": "code",
   "execution_count": 48,
   "id": "c2f66138-0ba5-433f-a9c5-2ade172373d8",
   "metadata": {},
   "outputs": [
    {
     "data": {
      "text/plain": [
       "<AxesSubplot:xlabel='education', ylabel='age'>"
      ]
     },
     "execution_count": 48,
     "metadata": {},
     "output_type": "execute_result"
    },
    {
     "data": {
      "image/png": "[encoded data removed]",
      "text/plain": [
       "<Figure size 1080x432 with 1 Axes>"
      ]
     },
     "metadata": {
      "needs_background": "light"
     },
     "output_type": "display_data"
    }
   ],
   "source": [
    "plt.figure(figsize=(15,6))\n",
    "sns.boxplot(x = 'education', y = 'age',data = df)"
   ]
  },
  {
   "cell_type": "code",
   "execution_count": 49,
   "id": "5025d3fb-5413-478a-b440-9e7f31a0e849",
   "metadata": {},
   "outputs": [
    {
     "data": {
      "text/plain": [
       "<AxesSubplot:xlabel='education', ylabel='age'>"
      ]
     },
     "execution_count": 49,
     "metadata": {},
     "output_type": "execute_result"
    },
    {
     "data": {
      "image/png": "[encoded data removed]",
      "text/plain": [
       "<Figure size 1080x432 with 1 Axes>"
      ]
     },
     "metadata": {
      "needs_background": "light"
     },
     "output_type": "display_data"
    }
   ],
   "source": [
    "plt.figure(figsize=(15,6))\n",
    "\n",
    "sns.boxplot(x = 'education', y = 'age',data = df, hue = 'default')"
   ]
  },
  {
   "cell_type": "code",
   "execution_count": 50,
   "id": "403f39be-79d0-46d1-9944-35599c2c94c5",
   "metadata": {},
   "outputs": [
    {
     "data": {
      "image/png": "[encoded data removed]",
      "text/plain": [
       "<Figure size 1080x504 with 1 Axes>"
      ]
     },
     "metadata": {
      "needs_background": "light"
     },
     "output_type": "display_data"
    }
   ],
   "source": [
    "plt.figure(figsize=(15, 7))\n",
    "\n",
    "educ_def = (df.groupby(['default'])['education']\n",
    "            .value_counts(normalize=True)\n",
    "            .rename('percentage')\n",
    "            .mul(100)\n",
    "            .reset_index()\n",
    "            .sort_values('education'))\n",
    "\n",
    "ax = sns.barplot(x=\"education\", y=\"percentage\", hue=\"default\", data=educ_def)\n",
    "\n",
    "for p in ax.patches:\n",
    "    percentage = '{:.1f}%'.format(p.get_height())\n",
    "    ax.annotate(percentage,  # текст\n",
    "                (p.get_x() + p.get_width() / 2., p.get_height()),  # координата xy\n",
    "                ha='center',  # центрирование\n",
    "                va='center',\n",
    "                xytext=(0, 10),\n",
    "                textcoords='offset points',  # точка смещения относительно координаты\n",
    "                fontsize=14)\n",
    "\n",
    "plt.title('Education-Default', fontsize=20)\n",
    "plt.ylabel('Count', fontsize=14)\n",
    "plt.xlabel('default', fontsize=14)\n",
    "\n",
    "plt.xticks(fontsize=14)\n",
    "plt.yticks(fontsize=14);"
   ]
  },
  {
   "cell_type": "code",
   "execution_count": 51,
   "id": "a777ee1e-edb3-429c-8f19-ead09d21ade9",
   "metadata": {},
   "outputs": [
    {
     "data": {
      "text/html": [
       "<div>\n",
       "<style scoped>\n",
       "    .dataframe tbody tr th:only-of-type {\n",
       "        vertical-align: middle;\n",
       "    }\n",
       "\n",
       "    .dataframe tbody tr th {\n",
       "        vertical-align: top;\n",
       "    }\n",
       "\n",
       "    .dataframe thead th {\n",
       "        text-align: right;\n",
       "    }\n",
       "</style>\n",
       "<table border=\"1\" class=\"dataframe\">\n",
       "  <thead>\n",
       "    <tr style=\"text-align: right;\">\n",
       "      <th></th>\n",
       "      <th>education</th>\n",
       "      <th>age</th>\n",
       "    </tr>\n",
       "  </thead>\n",
       "  <tbody>\n",
       "    <tr>\n",
       "      <th>0</th>\n",
       "      <td>ACD</td>\n",
       "      <td>40.149485</td>\n",
       "    </tr>\n",
       "    <tr>\n",
       "      <th>1</th>\n",
       "      <td>GRD</td>\n",
       "      <td>38.053970</td>\n",
       "    </tr>\n",
       "    <tr>\n",
       "      <th>2</th>\n",
       "      <td>PGR</td>\n",
       "      <td>38.252188</td>\n",
       "    </tr>\n",
       "    <tr>\n",
       "      <th>3</th>\n",
       "      <td>SCH</td>\n",
       "      <td>41.148492</td>\n",
       "    </tr>\n",
       "    <tr>\n",
       "      <th>4</th>\n",
       "      <td>UGR</td>\n",
       "      <td>34.862062</td>\n",
       "    </tr>\n",
       "  </tbody>\n",
       "</table>\n",
       "</div>"
      ],
      "text/plain": [
       "  education        age\n",
       "0       ACD  40.149485\n",
       "1       GRD  38.053970\n",
       "2       PGR  38.252188\n",
       "3       SCH  41.148492\n",
       "4       UGR  34.862062"
      ]
     },
     "execution_count": 51,
     "metadata": {},
     "output_type": "execute_result"
    }
   ],
   "source": [
    "df.groupby('education').agg({'age':'mean'}).reset_index()"
   ]
  },
  {
   "cell_type": "code",
   "execution_count": 52,
   "id": "9ee59018-8b50-44fb-b928-5af1409e31c1",
   "metadata": {},
   "outputs": [
    {
     "data": {
      "text/html": [
       "<div>\n",
       "<style scoped>\n",
       "    .dataframe tbody tr th:only-of-type {\n",
       "        vertical-align: middle;\n",
       "    }\n",
       "\n",
       "    .dataframe tbody tr th {\n",
       "        vertical-align: top;\n",
       "    }\n",
       "\n",
       "    .dataframe thead th {\n",
       "        text-align: right;\n",
       "    }\n",
       "</style>\n",
       "<table border=\"1\" class=\"dataframe\">\n",
       "  <thead>\n",
       "    <tr style=\"text-align: right;\">\n",
       "      <th></th>\n",
       "      <th>default</th>\n",
       "      <th>education</th>\n",
       "      <th>age</th>\n",
       "    </tr>\n",
       "  </thead>\n",
       "  <tbody>\n",
       "    <tr>\n",
       "      <th>0</th>\n",
       "      <td>0</td>\n",
       "      <td>ACD</td>\n",
       "      <td>36</td>\n",
       "    </tr>\n",
       "    <tr>\n",
       "      <th>1</th>\n",
       "      <td>0</td>\n",
       "      <td>GRD</td>\n",
       "      <td>28</td>\n",
       "    </tr>\n",
       "    <tr>\n",
       "      <th>2</th>\n",
       "      <td>0</td>\n",
       "      <td>PGR</td>\n",
       "      <td>31</td>\n",
       "    </tr>\n",
       "    <tr>\n",
       "      <th>3</th>\n",
       "      <td>0</td>\n",
       "      <td>SCH</td>\n",
       "      <td>42</td>\n",
       "    </tr>\n",
       "    <tr>\n",
       "      <th>4</th>\n",
       "      <td>0</td>\n",
       "      <td>UGR</td>\n",
       "      <td>23</td>\n",
       "    </tr>\n",
       "    <tr>\n",
       "      <th>5</th>\n",
       "      <td>1</td>\n",
       "      <td>ACD</td>\n",
       "      <td>40</td>\n",
       "    </tr>\n",
       "    <tr>\n",
       "      <th>6</th>\n",
       "      <td>1</td>\n",
       "      <td>GRD</td>\n",
       "      <td>30</td>\n",
       "    </tr>\n",
       "    <tr>\n",
       "      <th>7</th>\n",
       "      <td>1</td>\n",
       "      <td>PGR</td>\n",
       "      <td>32</td>\n",
       "    </tr>\n",
       "    <tr>\n",
       "      <th>8</th>\n",
       "      <td>1</td>\n",
       "      <td>SCH</td>\n",
       "      <td>30</td>\n",
       "    </tr>\n",
       "    <tr>\n",
       "      <th>9</th>\n",
       "      <td>1</td>\n",
       "      <td>UGR</td>\n",
       "      <td>26</td>\n",
       "    </tr>\n",
       "  </tbody>\n",
       "</table>\n",
       "</div>"
      ],
      "text/plain": [
       "   default education  age\n",
       "0        0       ACD   36\n",
       "1        0       GRD   28\n",
       "2        0       PGR   31\n",
       "3        0       SCH   42\n",
       "4        0       UGR   23\n",
       "5        1       ACD   40\n",
       "6        1       GRD   30\n",
       "7        1       PGR   32\n",
       "8        1       SCH   30\n",
       "9        1       UGR   26"
      ]
     },
     "execution_count": 52,
     "metadata": {},
     "output_type": "execute_result"
    }
   ],
   "source": [
    "df.groupby(['default','education'])['age'].apply(lambda x: x.value_counts().index[0]).reset_index()"
   ]
  },
  {
   "cell_type": "markdown",
   "id": "27b5acbb-2c82-4685-8fc8-250d86e8f8cd",
   "metadata": {},
   "source": [
    "Аналогично видим, что процент недобросовестных замщиков выше с уровнем образования SCH, для UGR разница не значительная. Скорее в данном случае влияет не как сам возраст, а уровень образования. Также можно отменить, что в какой то стемени GRD - более стабильны в плане выплат."
   ]
  },
  {
   "cell_type": "code",
   "execution_count": 53,
   "id": "07bc8dca-6472-4840-bbe6-a4789633c150",
   "metadata": {},
   "outputs": [
    {
     "data": {
      "image/png": "[encoded data removed]",
      "text/plain": [
       "<Figure size 720x576 with 2 Axes>"
      ]
     },
     "metadata": {
      "needs_background": "light"
     },
     "output_type": "display_data"
    }
   ],
   "source": [
    "num_cols = ['age', 'decline_app_cnt', 'good_work', 'bki_request_cnt',\n",
    "       'region_rating', 'income', 'sna', 'first_time', 'score_bki']\n",
    "\n",
    "plt.figure(figsize=(10, 8))\n",
    "\n",
    "sns.heatmap(df[num_cols].corr(method='spearman'), annot=True, fmt=\".1f\");"
   ]
  },
  {
   "cell_type": "code",
   "execution_count": 54,
   "id": "2943ee30-e1fc-4bac-b656-c40b244ab7ef",
   "metadata": {},
   "outputs": [
    {
     "data": {
      "text/plain": [
       "good_work\n",
       "0    53408\n",
       "1    11019\n",
       "Name: default, dtype: int64"
      ]
     },
     "execution_count": 54,
     "metadata": {},
     "output_type": "execute_result"
    }
   ],
   "source": [
    "df.groupby('good_work')['default'].apply(lambda x: x.value_counts()[0])"
   ]
  },
  {
   "cell_type": "markdown",
   "id": "02d085fb-06cb-4e08-a787-9af93afab63c",
   "metadata": {},
   "source": [
    "Отсутствие хорошей работы увеличивает риск не возрата кредита"
   ]
  },
  {
   "cell_type": "markdown",
   "id": "f97178fe-6bc3-47ac-bf7d-5e436ffded4d",
   "metadata": {},
   "source": [
    "# INCOME"
   ]
  },
  {
   "cell_type": "code",
   "execution_count": 55,
   "id": "367c9aa5-5bfc-477f-a75e-641ff0150dd4",
   "metadata": {},
   "outputs": [
    {
     "data": {
      "text/plain": [
       "Text(14.240182291666663, 0.5, 'Density')"
      ]
     },
     "execution_count": 55,
     "metadata": {},
     "output_type": "execute_result"
    },
    {
     "data": {
      "text/plain": [
       "<Figure size 720x576 with 0 Axes>"
      ]
     },
     "metadata": {},
     "output_type": "display_data"
    },
    {
     "data": {
      "image/png": "[encoded data removed]",
      "text/plain": [
       "<Figure size 440.875x360 with 1 Axes>"
      ]
     },
     "metadata": {
      "needs_background": "light"
     },
     "output_type": "display_data"
    }
   ],
   "source": [
    "plt.figure(figsize=(10, 8))\n",
    "\n",
    "sns.displot({\n",
    "    'default 0': df[df.default == 0].income,\n",
    "    'default 1': df[df.default == 1].income\n",
    "    },kind=\"kde\", common_norm=False)\n",
    "plt.title('income')\n",
    "plt.xlabel('income')\n",
    "plt.ylabel('Density')"
   ]
  },
  {
   "cell_type": "code",
   "execution_count": 56,
   "id": "d6856bb5-deae-4465-92bf-f2237dbd00c1",
   "metadata": {},
   "outputs": [
    {
     "data": {
      "text/html": [
       "<div>\n",
       "<style scoped>\n",
       "    .dataframe tbody tr th:only-of-type {\n",
       "        vertical-align: middle;\n",
       "    }\n",
       "\n",
       "    .dataframe tbody tr th {\n",
       "        vertical-align: top;\n",
       "    }\n",
       "\n",
       "    .dataframe thead th {\n",
       "        text-align: right;\n",
       "    }\n",
       "</style>\n",
       "<table border=\"1\" class=\"dataframe\">\n",
       "  <thead>\n",
       "    <tr style=\"text-align: right;\">\n",
       "      <th></th>\n",
       "      <th>default</th>\n",
       "      <th>income_median</th>\n",
       "    </tr>\n",
       "  </thead>\n",
       "  <tbody>\n",
       "    <tr>\n",
       "      <th>0</th>\n",
       "      <td>0</td>\n",
       "      <td>30000.0</td>\n",
       "    </tr>\n",
       "    <tr>\n",
       "      <th>1</th>\n",
       "      <td>1</td>\n",
       "      <td>28000.0</td>\n",
       "    </tr>\n",
       "  </tbody>\n",
       "</table>\n",
       "</div>"
      ],
      "text/plain": [
       "   default  income_median\n",
       "0        0        30000.0\n",
       "1        1        28000.0"
      ]
     },
     "execution_count": 56,
     "metadata": {},
     "output_type": "execute_result"
    }
   ],
   "source": [
    "df.groupby('default').agg({'income':'median'}).rename(columns={'income':'income_median'}).reset_index()"
   ]
  },
  {
   "cell_type": "code",
   "execution_count": 57,
   "id": "7e1b1e19-6d68-4a48-a630-8ea82b92a659",
   "metadata": {},
   "outputs": [
    {
     "data": {
      "text/plain": [
       "default        \n",
       "0        30000     6135\n",
       "         25000     5228\n",
       "         20000     4663\n",
       "         40000     4355\n",
       "         50000     4037\n",
       "                   ... \n",
       "1        124700       1\n",
       "         9200         1\n",
       "         35300        1\n",
       "         38350        1\n",
       "         5400         1\n",
       "Name: income, Length: 1231, dtype: int64"
      ]
     },
     "execution_count": 57,
     "metadata": {},
     "output_type": "execute_result"
    }
   ],
   "source": [
    "df.groupby('default')['income'].apply(lambda x: x.value_counts())"
   ]
  },
  {
   "cell_type": "code",
   "execution_count": 58,
   "id": "22d161b7-acaa-4369-aea0-98b5224e152c",
   "metadata": {},
   "outputs": [
    {
     "data": {
      "text/html": [
       "<div>\n",
       "<style scoped>\n",
       "    .dataframe tbody tr th:only-of-type {\n",
       "        vertical-align: middle;\n",
       "    }\n",
       "\n",
       "    .dataframe tbody tr th {\n",
       "        vertical-align: top;\n",
       "    }\n",
       "\n",
       "    .dataframe thead th {\n",
       "        text-align: right;\n",
       "    }\n",
       "</style>\n",
       "<table border=\"1\" class=\"dataframe\">\n",
       "  <thead>\n",
       "    <tr style=\"text-align: right;\">\n",
       "      <th></th>\n",
       "      <th>default</th>\n",
       "      <th>income_mean</th>\n",
       "    </tr>\n",
       "  </thead>\n",
       "  <tbody>\n",
       "    <tr>\n",
       "      <th>0</th>\n",
       "      <td>0</td>\n",
       "      <td>41799.713288</td>\n",
       "    </tr>\n",
       "    <tr>\n",
       "      <th>1</th>\n",
       "      <td>1</td>\n",
       "      <td>36288.113316</td>\n",
       "    </tr>\n",
       "  </tbody>\n",
       "</table>\n",
       "</div>"
      ],
      "text/plain": [
       "   default   income_mean\n",
       "0        0  41799.713288\n",
       "1        1  36288.113316"
      ]
     },
     "execution_count": 58,
     "metadata": {},
     "output_type": "execute_result"
    }
   ],
   "source": [
    "df.groupby('default').agg({'income':'mean'}).rename(columns={'income':'income_mean'}).reset_index()"
   ]
  },
  {
   "cell_type": "code",
   "execution_count": 59,
   "id": "415bc44a-82b9-4e83-92fb-939bbf5b41f3",
   "metadata": {},
   "outputs": [
    {
     "data": {
      "image/png": "[encoded data removed]",
      "text/plain": [
       "<Figure size 418.375x360 with 1 Axes>"
      ]
     },
     "metadata": {
      "needs_background": "light"
     },
     "output_type": "display_data"
    }
   ],
   "source": [
    "sns.displot({\n",
    "    'SCH': df[df.education == 'SCH'].income,\n",
    "    'GRD': df[df.education == 'GRD'].income,\n",
    "    'UGR': df[df.education == 'UGR'].income,\n",
    "    'PGR': df[df.education == 'PGR'].income,\n",
    "    'ACD': df[df.education == 'ACD'].income\n",
    "    },kind=\"kde\", common_norm=False)\n",
    "\n",
    "\n",
    "plt.title('Income-Education', fontsize=20)\n",
    "plt.xlabel('Income', fontsize=14)\n",
    "plt.ylabel('Dentsity', fontsize=14)\n",
    "\n",
    "plt.xticks(fontsize=14)\n",
    "plt.yticks(fontsize=14);"
   ]
  },
  {
   "cell_type": "code",
   "execution_count": 60,
   "id": "2d29d4da-7c97-442e-bc48-65659d736c17",
   "metadata": {},
   "outputs": [],
   "source": [
    "t1 = df.groupby('education').agg({'income':'mean'}).rename(columns={'income':'income_mean'}).reset_index()\n",
    "t2 = df.groupby('education').agg({'income':'median'}).rename(columns={'income':'income_median'}).reset_index()\n"
   ]
  },
  {
   "cell_type": "code",
   "execution_count": 61,
   "id": "8a9e40fc-6125-44da-932b-809e162a7154",
   "metadata": {},
   "outputs": [],
   "source": [
    "t = pd.merge(t1,t2,on='education')"
   ]
  },
  {
   "cell_type": "code",
   "execution_count": 62,
   "id": "47f468d8-ee3d-4f84-9e23-31e403fc75ac",
   "metadata": {},
   "outputs": [
    {
     "data": {
      "text/html": [
       "<div>\n",
       "<style scoped>\n",
       "    .dataframe tbody tr th:only-of-type {\n",
       "        vertical-align: middle;\n",
       "    }\n",
       "\n",
       "    .dataframe tbody tr th {\n",
       "        vertical-align: top;\n",
       "    }\n",
       "\n",
       "    .dataframe thead th {\n",
       "        text-align: right;\n",
       "    }\n",
       "</style>\n",
       "<table border=\"1\" class=\"dataframe\">\n",
       "  <thead>\n",
       "    <tr style=\"text-align: right;\">\n",
       "      <th></th>\n",
       "      <th>education</th>\n",
       "      <th>income_mean</th>\n",
       "      <th>income_median</th>\n",
       "    </tr>\n",
       "  </thead>\n",
       "  <tbody>\n",
       "    <tr>\n",
       "      <th>0</th>\n",
       "      <td>ACD</td>\n",
       "      <td>82966.634021</td>\n",
       "      <td>60000.0</td>\n",
       "    </tr>\n",
       "    <tr>\n",
       "      <th>1</th>\n",
       "      <td>GRD</td>\n",
       "      <td>54663.948941</td>\n",
       "      <td>40000.0</td>\n",
       "    </tr>\n",
       "    <tr>\n",
       "      <th>2</th>\n",
       "      <td>PGR</td>\n",
       "      <td>77548.206046</td>\n",
       "      <td>60000.0</td>\n",
       "    </tr>\n",
       "    <tr>\n",
       "      <th>3</th>\n",
       "      <td>SCH</td>\n",
       "      <td>32059.020732</td>\n",
       "      <td>25000.0</td>\n",
       "    </tr>\n",
       "    <tr>\n",
       "      <th>4</th>\n",
       "      <td>UGR</td>\n",
       "      <td>39391.796251</td>\n",
       "      <td>30000.0</td>\n",
       "    </tr>\n",
       "  </tbody>\n",
       "</table>\n",
       "</div>"
      ],
      "text/plain": [
       "  education   income_mean  income_median\n",
       "0       ACD  82966.634021        60000.0\n",
       "1       GRD  54663.948941        40000.0\n",
       "2       PGR  77548.206046        60000.0\n",
       "3       SCH  32059.020732        25000.0\n",
       "4       UGR  39391.796251        30000.0"
      ]
     },
     "execution_count": 62,
     "metadata": {},
     "output_type": "execute_result"
    }
   ],
   "source": [
    "t"
   ]
  },
  {
   "cell_type": "code",
   "execution_count": 63,
   "id": "0ed0f91b-2f7d-4768-a3b5-e8c7089da963",
   "metadata": {},
   "outputs": [
    {
     "data": {
      "text/plain": [
       "<AxesSubplot:xlabel='education', ylabel='income_mean'>"
      ]
     },
     "execution_count": 63,
     "metadata": {},
     "output_type": "execute_result"
    },
    {
     "data": {
      "image/png": "[encoded data removed]",
      "text/plain": [
       "<Figure size 432x288 with 1 Axes>"
      ]
     },
     "metadata": {
      "needs_background": "light"
     },
     "output_type": "display_data"
    }
   ],
   "source": [
    "sns.barplot(data = t, x='education', y='income_mean')"
   ]
  },
  {
   "cell_type": "markdown",
   "id": "6e453e47-ac5e-4d7a-b800-035a0e1bbcc1",
   "metadata": {},
   "source": [
    "Если человек имеет хорошее образование, то с большей вероятностью у него будет хороший доход"
   ]
  },
  {
   "cell_type": "markdown",
   "id": "9e8903dd-74b6-4917-8a37-7eac97888596",
   "metadata": {},
   "source": [
    "# SCORE_BKI"
   ]
  },
  {
   "cell_type": "code",
   "execution_count": 64,
   "id": "55b1c6b1-7949-44ee-891e-af41c4494a65",
   "metadata": {},
   "outputs": [
    {
     "data": {
      "text/html": [
       "<div>\n",
       "<style scoped>\n",
       "    .dataframe tbody tr th:only-of-type {\n",
       "        vertical-align: middle;\n",
       "    }\n",
       "\n",
       "    .dataframe tbody tr th {\n",
       "        vertical-align: top;\n",
       "    }\n",
       "\n",
       "    .dataframe thead th {\n",
       "        text-align: right;\n",
       "    }\n",
       "</style>\n",
       "<table border=\"1\" class=\"dataframe\">\n",
       "  <thead>\n",
       "    <tr style=\"text-align: right;\">\n",
       "      <th></th>\n",
       "      <th>score_bki</th>\n",
       "    </tr>\n",
       "    <tr>\n",
       "      <th>default</th>\n",
       "      <th></th>\n",
       "    </tr>\n",
       "  </thead>\n",
       "  <tbody>\n",
       "    <tr>\n",
       "      <th>0</th>\n",
       "      <td>-1.938048</td>\n",
       "    </tr>\n",
       "    <tr>\n",
       "      <th>1</th>\n",
       "      <td>-1.675637</td>\n",
       "    </tr>\n",
       "  </tbody>\n",
       "</table>\n",
       "</div>"
      ],
      "text/plain": [
       "         score_bki\n",
       "default           \n",
       "0        -1.938048\n",
       "1        -1.675637"
      ]
     },
     "execution_count": 64,
     "metadata": {},
     "output_type": "execute_result"
    }
   ],
   "source": [
    "df.groupby('default').agg({'score_bki':'mean'})"
   ]
  },
  {
   "cell_type": "code",
   "execution_count": 65,
   "id": "4e85e120-eb4b-4617-b060-d8fd8cca3077",
   "metadata": {},
   "outputs": [
    {
     "data": {
      "image/png": "[encoded data removed]",
      "text/plain": [
       "<Figure size 440.875x360 with 1 Axes>"
      ]
     },
     "metadata": {
      "needs_background": "light"
     },
     "output_type": "display_data"
    }
   ],
   "source": [
    "sns.displot({\n",
    "    'default 0':df[df.default == 0].score_bki,\n",
    "    'default 1':df[df.default == 1].score_bki\n",
    "},kind ='kde',common_norm=False)\n",
    "\n",
    "plt.title('Score BKI', fontsize=20)\n",
    "plt.xlabel('score bki', fontsize=14)\n",
    "plt.ylabel('Dentsity', fontsize=14)\n",
    "\n",
    "plt.xticks(fontsize=14)\n",
    "plt.yticks(fontsize=14);"
   ]
  },
  {
   "cell_type": "code",
   "execution_count": 66,
   "id": "cd9a2d33-44e0-4b8d-887b-d8024b5ca9eb",
   "metadata": {},
   "outputs": [
    {
     "data": {
      "text/plain": [
       "3.82435917"
      ]
     },
     "execution_count": 66,
     "metadata": {},
     "output_type": "execute_result"
    }
   ],
   "source": [
    "df[df.default == 0].score_bki.max() - df[df.default == 0].score_bki.min()"
   ]
  },
  {
   "cell_type": "code",
   "execution_count": 67,
   "id": "214666cf-67ae-4666-b0f3-bb52f068b66e",
   "metadata": {},
   "outputs": [
    {
     "data": {
      "text/plain": [
       "3.65585917"
      ]
     },
     "execution_count": 67,
     "metadata": {},
     "output_type": "execute_result"
    }
   ],
   "source": [
    "df[df.default == 1].score_bki.max() - df[df.default == 1].score_bki.min()"
   ]
  },
  {
   "cell_type": "markdown",
   "id": "56c1d7b1-8608-41d1-8eef-50319b001e7a",
   "metadata": {},
   "source": [
    "Чем меньше BKI тем больше вероятность, что человек вернёт кредит"
   ]
  },
  {
   "cell_type": "code",
   "execution_count": 68,
   "id": "b6921aa9-b066-4a3b-927b-a6c2b36cab73",
   "metadata": {},
   "outputs": [
    {
     "data": {
      "text/html": [
       "<div>\n",
       "<style scoped>\n",
       "    .dataframe tbody tr th:only-of-type {\n",
       "        vertical-align: middle;\n",
       "    }\n",
       "\n",
       "    .dataframe tbody tr th {\n",
       "        vertical-align: top;\n",
       "    }\n",
       "\n",
       "    .dataframe thead th {\n",
       "        text-align: right;\n",
       "    }\n",
       "</style>\n",
       "<table border=\"1\" class=\"dataframe\">\n",
       "  <thead>\n",
       "    <tr style=\"text-align: right;\">\n",
       "      <th></th>\n",
       "      <th>score_bki</th>\n",
       "      <th>income</th>\n",
       "    </tr>\n",
       "  </thead>\n",
       "  <tbody>\n",
       "    <tr>\n",
       "      <th>score_bki</th>\n",
       "      <td>1.000000</td>\n",
       "      <td>0.007133</td>\n",
       "    </tr>\n",
       "    <tr>\n",
       "      <th>income</th>\n",
       "      <td>0.007133</td>\n",
       "      <td>1.000000</td>\n",
       "    </tr>\n",
       "  </tbody>\n",
       "</table>\n",
       "</div>"
      ],
      "text/plain": [
       "           score_bki    income\n",
       "score_bki   1.000000  0.007133\n",
       "income      0.007133  1.000000"
      ]
     },
     "execution_count": 68,
     "metadata": {},
     "output_type": "execute_result"
    }
   ],
   "source": [
    "df[['score_bki','income']].corr(method='spearman')"
   ]
  },
  {
   "cell_type": "markdown",
   "id": "dc678191-199c-4dac-85df-5c45221ac75c",
   "metadata": {},
   "source": [
    "# foreign passport"
   ]
  },
  {
   "cell_type": "code",
   "execution_count": 69,
   "id": "492fb27e-3e8c-4d9e-8985-87bcb6fa5c12",
   "metadata": {},
   "outputs": [
    {
     "data": {
      "image/png": "[encoded data removed]",
      "text/plain": [
       "<Figure size 1080x504 with 1 Axes>"
      ]
     },
     "metadata": {
      "needs_background": "light"
     },
     "output_type": "display_data"
    }
   ],
   "source": [
    "plt.figure(figsize=(15, 7))\n",
    "\n",
    "educ_def = (df.groupby(['default'])['foreign_passport']\n",
    "            .value_counts(normalize=True)\n",
    "            .rename('percentage')\n",
    "            .mul(100)\n",
    "            .reset_index()\n",
    "            .sort_values('foreign_passport'))\n",
    "\n",
    "ax = sns.barplot(x=\"foreign_passport\", y=\"percentage\", hue=\"default\", data=educ_def)\n",
    "\n",
    "for p in ax.patches:\n",
    "    percentage = '{:.1f}%'.format(p.get_height())\n",
    "    ax.annotate(percentage,  # текст\n",
    "                (p.get_x() + p.get_width() / 2., p.get_height()),  # координата xy\n",
    "                ha='center',  # центрирование\n",
    "                va='center',\n",
    "                xytext=(0, 10),\n",
    "                textcoords='offset points',  # точка смещения относительно координаты\n",
    "                fontsize=14)\n",
    "\n",
    "plt.title('foreign passport', fontsize=20)\n",
    "plt.ylabel('Count', fontsize=14)\n",
    "plt.xlabel('default', fontsize=14)\n",
    "\n",
    "plt.xticks(fontsize=14)\n",
    "plt.yticks(fontsize=14);"
   ]
  },
  {
   "cell_type": "markdown",
   "id": "d9c58c68-23c6-49b8-b1a3-0ccd0f3a67bc",
   "metadata": {},
   "source": [
    "Люди с загран паспортом более надежны"
   ]
  },
  {
   "cell_type": "code",
   "execution_count": 70,
   "id": "0585d42d-970a-44da-9a9a-351b1b1fc480",
   "metadata": {},
   "outputs": [
    {
     "data": {
      "text/html": [
       "<div>\n",
       "<style scoped>\n",
       "    .dataframe tbody tr th:only-of-type {\n",
       "        vertical-align: middle;\n",
       "    }\n",
       "\n",
       "    .dataframe tbody tr th {\n",
       "        vertical-align: top;\n",
       "    }\n",
       "\n",
       "    .dataframe thead th {\n",
       "        text-align: right;\n",
       "    }\n",
       "</style>\n",
       "<table border=\"1\" class=\"dataframe\">\n",
       "  <thead>\n",
       "    <tr style=\"text-align: right;\">\n",
       "      <th></th>\n",
       "      <th>foreign_passport</th>\n",
       "      <th>education</th>\n",
       "      <th>N</th>\n",
       "    </tr>\n",
       "  </thead>\n",
       "  <tbody>\n",
       "    <tr>\n",
       "      <th>0</th>\n",
       "      <td>N</td>\n",
       "      <td>ACD</td>\n",
       "      <td>118</td>\n",
       "    </tr>\n",
       "    <tr>\n",
       "      <th>1</th>\n",
       "      <td>N</td>\n",
       "      <td>GRD</td>\n",
       "      <td>18010</td>\n",
       "    </tr>\n",
       "    <tr>\n",
       "      <th>2</th>\n",
       "      <td>N</td>\n",
       "      <td>PGR</td>\n",
       "      <td>854</td>\n",
       "    </tr>\n",
       "    <tr>\n",
       "      <th>3</th>\n",
       "      <td>N</td>\n",
       "      <td>SCH</td>\n",
       "      <td>35423</td>\n",
       "    </tr>\n",
       "    <tr>\n",
       "      <th>4</th>\n",
       "      <td>N</td>\n",
       "      <td>UGR</td>\n",
       "      <td>8328</td>\n",
       "    </tr>\n",
       "    <tr>\n",
       "      <th>5</th>\n",
       "      <td>Y</td>\n",
       "      <td>ACD</td>\n",
       "      <td>76</td>\n",
       "    </tr>\n",
       "    <tr>\n",
       "      <th>6</th>\n",
       "      <td>Y</td>\n",
       "      <td>GRD</td>\n",
       "      <td>5355</td>\n",
       "    </tr>\n",
       "    <tr>\n",
       "      <th>7</th>\n",
       "      <td>Y</td>\n",
       "      <td>PGR</td>\n",
       "      <td>403</td>\n",
       "    </tr>\n",
       "    <tr>\n",
       "      <th>8</th>\n",
       "      <td>Y</td>\n",
       "      <td>SCH</td>\n",
       "      <td>3744</td>\n",
       "    </tr>\n",
       "    <tr>\n",
       "      <th>9</th>\n",
       "      <td>Y</td>\n",
       "      <td>UGR</td>\n",
       "      <td>1488</td>\n",
       "    </tr>\n",
       "  </tbody>\n",
       "</table>\n",
       "</div>"
      ],
      "text/plain": [
       "  foreign_passport education      N\n",
       "0                N       ACD    118\n",
       "1                N       GRD  18010\n",
       "2                N       PGR    854\n",
       "3                N       SCH  35423\n",
       "4                N       UGR   8328\n",
       "5                Y       ACD     76\n",
       "6                Y       GRD   5355\n",
       "7                Y       PGR    403\n",
       "8                Y       SCH   3744\n",
       "9                Y       UGR   1488"
      ]
     },
     "execution_count": 70,
     "metadata": {},
     "output_type": "execute_result"
    }
   ],
   "source": [
    "df.groupby(['foreign_passport','education']).agg({'client_id':'count'}).rename(columns={'client_id':'N'}).reset_index()"
   ]
  },
  {
   "cell_type": "markdown",
   "id": "c68251f3-4bab-4423-a700-c3dca37156f3",
   "metadata": {},
   "source": [
    "----"
   ]
  },
  {
   "cell_type": "markdown",
   "id": "e32044f8-cf61-4ad7-be87-e13c6a7658e0",
   "metadata": {},
   "source": [
    "# car type\n",
    "\n"
   ]
  },
  {
   "cell_type": "code",
   "execution_count": 71,
   "id": "3c535192-f62d-44bc-b251-9c84b75d099d",
   "metadata": {
    "tags": []
   },
   "outputs": [
    {
     "data": {
      "text/html": [
       "<div>\n",
       "<style scoped>\n",
       "    .dataframe tbody tr th:only-of-type {\n",
       "        vertical-align: middle;\n",
       "    }\n",
       "\n",
       "    .dataframe tbody tr th {\n",
       "        vertical-align: top;\n",
       "    }\n",
       "\n",
       "    .dataframe thead th {\n",
       "        text-align: right;\n",
       "    }\n",
       "</style>\n",
       "<table border=\"1\" class=\"dataframe\">\n",
       "  <thead>\n",
       "    <tr style=\"text-align: right;\">\n",
       "      <th></th>\n",
       "      <th>default</th>\n",
       "      <th>car</th>\n",
       "      <th>N</th>\n",
       "    </tr>\n",
       "  </thead>\n",
       "  <tbody>\n",
       "    <tr>\n",
       "      <th>0</th>\n",
       "      <td>0</td>\n",
       "      <td>N</td>\n",
       "      <td>43007</td>\n",
       "    </tr>\n",
       "    <tr>\n",
       "      <th>1</th>\n",
       "      <td>0</td>\n",
       "      <td>Y</td>\n",
       "      <td>21420</td>\n",
       "    </tr>\n",
       "    <tr>\n",
       "      <th>2</th>\n",
       "      <td>1</td>\n",
       "      <td>N</td>\n",
       "      <td>6825</td>\n",
       "    </tr>\n",
       "    <tr>\n",
       "      <th>3</th>\n",
       "      <td>1</td>\n",
       "      <td>Y</td>\n",
       "      <td>2547</td>\n",
       "    </tr>\n",
       "  </tbody>\n",
       "</table>\n",
       "</div>"
      ],
      "text/plain": [
       "   default car      N\n",
       "0        0   N  43007\n",
       "1        0   Y  21420\n",
       "2        1   N   6825\n",
       "3        1   Y   2547"
      ]
     },
     "execution_count": 71,
     "metadata": {},
     "output_type": "execute_result"
    }
   ],
   "source": [
    "df.groupby(['default','car']).agg({'client_id':'count'}).rename(columns={'client_id':'N'}).reset_index()"
   ]
  },
  {
   "cell_type": "code",
   "execution_count": 72,
   "id": "1b325eae-742c-427c-a044-1a657cfd17da",
   "metadata": {},
   "outputs": [
    {
     "data": {
      "image/png": "[encoded data removed]",
      "text/plain": [
       "<Figure size 1080x504 with 1 Axes>"
      ]
     },
     "metadata": {
      "needs_background": "light"
     },
     "output_type": "display_data"
    }
   ],
   "source": [
    "plt.figure(figsize=(15, 7))\n",
    "\n",
    "educ_def = (df.groupby(['default'])['car']\n",
    "            .value_counts(normalize=True)\n",
    "            .rename('percentage')\n",
    "            .mul(100)\n",
    "            .reset_index()\n",
    "            .sort_values('car'))\n",
    "\n",
    "ax = sns.barplot(x=\"car\", y=\"percentage\", hue=\"default\", data=educ_def)\n",
    "\n",
    "for p in ax.patches:\n",
    "    percentage = '{:.1f}%'.format(p.get_height())\n",
    "    ax.annotate(percentage,  # текст\n",
    "                (p.get_x() + p.get_width() / 2., p.get_height()),  # координата xy\n",
    "                ha='center',  # центрирование\n",
    "                va='center',\n",
    "                xytext=(0, 10),\n",
    "                textcoords='offset points',  # точка смещения относительно координаты\n",
    "                fontsize=14)\n",
    "\n",
    "plt.title('car', fontsize=20)\n",
    "plt.ylabel('Count', fontsize=14)\n",
    "plt.xlabel('default', fontsize=14)\n",
    "\n",
    "plt.xticks(fontsize=14)\n",
    "plt.yticks(fontsize=14);"
   ]
  },
  {
   "cell_type": "code",
   "execution_count": 73,
   "id": "f6a3e274-a663-4693-97a7-bb9d287d8d46",
   "metadata": {},
   "outputs": [
    {
     "data": {
      "image/png": "[encoded data removed]",
      "text/plain": [
       "<Figure size 1080x504 with 1 Axes>"
      ]
     },
     "metadata": {
      "needs_background": "light"
     },
     "output_type": "display_data"
    }
   ],
   "source": [
    "plt.figure(figsize=(15, 7))\n",
    "\n",
    "educ_def = (df.groupby(['default'])['car_type']\n",
    "            .value_counts(normalize=True)\n",
    "            .rename('percentage')\n",
    "            .mul(100)\n",
    "            .reset_index()\n",
    "            .sort_values('car_type'))\n",
    "\n",
    "ax = sns.barplot(x=\"car_type\", y=\"percentage\", hue=\"default\", data=educ_def)\n",
    "\n",
    "for p in ax.patches:\n",
    "    percentage = '{:.1f}%'.format(p.get_height())\n",
    "    ax.annotate(percentage,  # текст\n",
    "                (p.get_x() + p.get_width() / 2., p.get_height()),  # координата xy\n",
    "                ha='center',  # центрирование\n",
    "                va='center',\n",
    "                xytext=(0, 10),\n",
    "                textcoords='offset points',  # точка смещения относительно координаты\n",
    "                fontsize=14)\n",
    "\n",
    "plt.title('car', fontsize=20)\n",
    "plt.ylabel('Count', fontsize=14)\n",
    "plt.xlabel('default', fontsize=14)\n",
    "\n",
    "plt.xticks(fontsize=14)\n",
    "plt.yticks(fontsize=14);"
   ]
  },
  {
   "cell_type": "markdown",
   "id": "b078b74d-783d-4f11-81bd-0678e10eca51",
   "metadata": {},
   "source": [
    "Если у человека есть машина то он с большей вероятностью сможет выполнять обязательства. Так же если это иномарка то его надежность растёт."
   ]
  },
  {
   "cell_type": "code",
   "execution_count": null,
   "id": "0cf27266-f4ea-4fc0-b546-9fef1099fa74",
   "metadata": {},
   "outputs": [],
   "source": []
  },
  {
   "cell_type": "code",
   "execution_count": 74,
   "id": "532dda0a-d3a6-4ca2-aa96-04bf45efad78",
   "metadata": {},
   "outputs": [
    {
     "data": {
      "image/png": "[encoded data removed]",
      "text/plain": [
       "<Figure size 1656x1224 with 1 Axes>"
      ]
     },
     "metadata": {
      "needs_background": "light"
     },
     "output_type": "display_data"
    }
   ],
   "source": [
    "plt.figure(figsize=(23,17))\n",
    "sns.barplot(data=df,x='age',y='first_time')\n",
    "plt.title('first_time/age', fontsize=20)\n",
    "plt.ylabel('first_time', fontsize=14)\n",
    "plt.xlabel('age', fontsize=14)\n",
    "\n",
    "plt.xticks(fontsize=8)\n",
    "plt.yticks(fontsize=18);"
   ]
  },
  {
   "cell_type": "markdown",
   "id": "c95197a1-9f69-47a7-aba4-33ff21d5708f",
   "metadata": {},
   "source": [
    "Утверждать, что first_time и возраст связаны нельзя"
   ]
  },
  {
   "cell_type": "code",
   "execution_count": 75,
   "id": "d6efb19d-1247-4099-ad98-00e335e17d5b",
   "metadata": {},
   "outputs": [
    {
     "data": {
      "text/plain": [
       "Text(0.5, 6.79999999999999, 'sna')"
      ]
     },
     "execution_count": 75,
     "metadata": {},
     "output_type": "execute_result"
    },
    {
     "data": {
      "image/png": "[encoded data removed]",
      "text/plain": [
       "<Figure size 459.25x360 with 1 Axes>"
      ]
     },
     "metadata": {
      "needs_background": "light"
     },
     "output_type": "display_data"
    }
   ],
   "source": [
    "sns.displot({'good_work 0':df[df.good_work == 0].sna,\n",
    "           'good_work 1':df[df.good_work == 1].sna},kind='kde',common_norm=False)\n",
    "plt.title('SNA')\n",
    "plt.xlabel('sna')"
   ]
  },
  {
   "cell_type": "markdown",
   "id": "9b4d5e12-d067-4dc7-ada0-011661988c22",
   "metadata": {},
   "source": [
    "Люди с хорошей работай имеют более высокий sna"
   ]
  },
  {
   "cell_type": "markdown",
   "id": "ac6030ff-4846-488f-8651-fc8314d331c6",
   "metadata": {},
   "source": [
    "ФИЧИ"
   ]
  },
  {
   "cell_type": "code",
   "execution_count": 76,
   "id": "abf09d8e-b039-4bcc-8a4c-b2d2872a8a23",
   "metadata": {},
   "outputs": [],
   "source": [
    "\n",
    "\n",
    "num_cols = ['age', 'decline_app_cnt', 'score_bki',\n",
    "            'bki_request_cnt', 'income', 'first_time','region_rating']\n",
    "\n"
   ]
  },
  {
   "cell_type": "code",
   "execution_count": 77,
   "id": "b32030e6-e1ba-4525-8254-e86c8560e49e",
   "metadata": {},
   "outputs": [
    {
     "data": {
      "image/png": "[encoded data removed]",
      "text/plain": [
       "<Figure size 648x648 with 7 Axes>"
      ]
     },
     "metadata": {
      "needs_background": "light"
     },
     "output_type": "display_data"
    }
   ],
   "source": [
    "\n",
    "\n",
    "numeric_features = df[num_cols]\n",
    "\n",
    "numeric_features = numeric_features.stack().reset_index().rename(\n",
    "    columns={\"level_1\": \"Features\", 0: \"Value\"})\n",
    "\n",
    "ax = sns.FacetGrid(data=numeric_features, col=\"Features\",\n",
    "                  col_wrap=3, sharex=False, sharey=False)\n",
    "ax = ax.map(sns.distplot, \"Value\")\n",
    "\n",
    "plt.subplots_adjust(top=0.9)\n",
    "plt.suptitle(\"Histograms of various features\");\n",
    "\n"
   ]
  },
  {
   "cell_type": "code",
   "execution_count": 78,
   "id": "f322d24b-2720-4530-8a77-6d898556b4b8",
   "metadata": {},
   "outputs": [],
   "source": [
    "\n",
    "\n",
    "for i in ['age', 'decline_app_cnt', 'bki_request_cnt', 'income']:\n",
    "    df[i] = np.log(df[i]+1)\n",
    "\n"
   ]
  },
  {
   "cell_type": "code",
   "execution_count": 80,
   "id": "867979a7-4896-4ac3-9da5-c8539cce41a5",
   "metadata": {},
   "outputs": [
    {
     "data": {
      "image/png": "[encoded data removed]",
      "text/plain": [
       "<Figure size 648x648 with 7 Axes>"
      ]
     },
     "metadata": {
      "needs_background": "light"
     },
     "output_type": "display_data"
    }
   ],
   "source": [
    "numeric_features = df[num_cols]\n",
    "\n",
    "numeric_features = numeric_features.stack().reset_index().rename(\n",
    "    columns={\"level_1\": \"Features\", 0: \"Value\"})\n",
    "\n",
    "ax = sns.FacetGrid(data=numeric_features, col=\"Features\",\n",
    "                  col_wrap=3, sharex=False, sharey=False)\n",
    "ax = ax.map(sns.distplot, \"Value\")\n",
    "\n",
    "plt.subplots_adjust(top=0.9)\n",
    "plt.suptitle(\"Histograms of various features\");\n",
    "\n",
    "\n",
    "\n"
   ]
  },
  {
   "cell_type": "code",
   "execution_count": 81,
   "id": "1b2a4247-8d08-4b34-8cf6-54987924fee1",
   "metadata": {},
   "outputs": [],
   "source": [
    "\n",
    "\n",
    "# Новый признак - месяц\n",
    "df['app_date'] = pd.to_datetime(df['app_date'], format='%d%b%Y')\n",
    "df['month'] = df['app_date'].dt.month.astype(object)\n",
    "\n",
    "df.drop(['app_date'],  axis=1, inplace=True)\n",
    "\n"
   ]
  },
  {
   "cell_type": "code",
   "execution_count": 82,
   "id": "b0a239ac-ae42-4255-ad00-3383cd926b7e",
   "metadata": {},
   "outputs": [],
   "source": [
    "\n",
    "\n",
    "# Средний доход с учетом рейтинга региона\n",
    "\n",
    "mean_inc_reg = df.groupby('region_rating')['income'].median().to_dict()\n",
    "df['mean_income_region'] = df['region_rating'].map(mean_inc_reg)\n",
    "\n"
   ]
  },
  {
   "cell_type": "code",
   "execution_count": 83,
   "id": "e5e4f40f-c771-4ff6-a58d-55174f77d8c4",
   "metadata": {},
   "outputs": [],
   "source": [
    "\n",
    "\n",
    "# Средний доход с учетом возраста\n",
    "\n",
    "mean_inc_age = df.groupby('age')['income'].median().to_dict()\n",
    "df['mean_income_age'] = df['age'].map(mean_inc_age)\n",
    "\n"
   ]
  },
  {
   "cell_type": "code",
   "execution_count": 84,
   "id": "6254c173-f6b7-47e0-8a4e-2c0c07c077f0",
   "metadata": {},
   "outputs": [],
   "source": [
    "# Средний score bki с учетом возраста\n",
    "\n",
    "mean_bki_age = df.groupby('age')['score_bki'].median().to_dict()\n",
    "df['mean_bki_age'] = df['age'].map(mean_bki_age)\n",
    "\n"
   ]
  },
  {
   "cell_type": "code",
   "execution_count": 85,
   "id": "e8024e0a-9974-4a8c-b98c-e62de0cb65e0",
   "metadata": {},
   "outputs": [
    {
     "data": {
      "text/html": [
       "<div>\n",
       "<style scoped>\n",
       "    .dataframe tbody tr th:only-of-type {\n",
       "        vertical-align: middle;\n",
       "    }\n",
       "\n",
       "    .dataframe tbody tr th {\n",
       "        vertical-align: top;\n",
       "    }\n",
       "\n",
       "    .dataframe thead th {\n",
       "        text-align: right;\n",
       "    }\n",
       "</style>\n",
       "<table border=\"1\" class=\"dataframe\">\n",
       "  <thead>\n",
       "    <tr style=\"text-align: right;\">\n",
       "      <th></th>\n",
       "      <th>client_id</th>\n",
       "      <th>education</th>\n",
       "      <th>sex</th>\n",
       "      <th>age</th>\n",
       "      <th>car</th>\n",
       "      <th>car_type</th>\n",
       "      <th>decline_app_cnt</th>\n",
       "      <th>good_work</th>\n",
       "      <th>score_bki</th>\n",
       "      <th>bki_request_cnt</th>\n",
       "      <th>...</th>\n",
       "      <th>work_address</th>\n",
       "      <th>income</th>\n",
       "      <th>sna</th>\n",
       "      <th>first_time</th>\n",
       "      <th>foreign_passport</th>\n",
       "      <th>default</th>\n",
       "      <th>month</th>\n",
       "      <th>mean_income_region</th>\n",
       "      <th>mean_income_age</th>\n",
       "      <th>mean_bki_age</th>\n",
       "    </tr>\n",
       "  </thead>\n",
       "  <tbody>\n",
       "    <tr>\n",
       "      <th>0</th>\n",
       "      <td>25905</td>\n",
       "      <td>SCH</td>\n",
       "      <td>M</td>\n",
       "      <td>4.143135</td>\n",
       "      <td>Y</td>\n",
       "      <td>Y</td>\n",
       "      <td>0.000000</td>\n",
       "      <td>0</td>\n",
       "      <td>-2.008753</td>\n",
       "      <td>0.693147</td>\n",
       "      <td>...</td>\n",
       "      <td>2</td>\n",
       "      <td>9.798183</td>\n",
       "      <td>4</td>\n",
       "      <td>1</td>\n",
       "      <td>N</td>\n",
       "      <td>0</td>\n",
       "      <td>2</td>\n",
       "      <td>10.126671</td>\n",
       "      <td>9.903538</td>\n",
       "      <td>-1.981476</td>\n",
       "    </tr>\n",
       "    <tr>\n",
       "      <th>1</th>\n",
       "      <td>63161</td>\n",
       "      <td>SCH</td>\n",
       "      <td>F</td>\n",
       "      <td>4.094345</td>\n",
       "      <td>N</td>\n",
       "      <td>N</td>\n",
       "      <td>0.000000</td>\n",
       "      <td>0</td>\n",
       "      <td>-1.532276</td>\n",
       "      <td>1.386294</td>\n",
       "      <td>...</td>\n",
       "      <td>3</td>\n",
       "      <td>9.852247</td>\n",
       "      <td>4</td>\n",
       "      <td>1</td>\n",
       "      <td>N</td>\n",
       "      <td>0</td>\n",
       "      <td>3</td>\n",
       "      <td>10.126671</td>\n",
       "      <td>9.998843</td>\n",
       "      <td>-1.994864</td>\n",
       "    </tr>\n",
       "    <tr>\n",
       "      <th>2</th>\n",
       "      <td>25887</td>\n",
       "      <td>SCH</td>\n",
       "      <td>M</td>\n",
       "      <td>3.258097</td>\n",
       "      <td>Y</td>\n",
       "      <td>N</td>\n",
       "      <td>1.098612</td>\n",
       "      <td>0</td>\n",
       "      <td>-1.408142</td>\n",
       "      <td>0.693147</td>\n",
       "      <td>...</td>\n",
       "      <td>2</td>\n",
       "      <td>10.308986</td>\n",
       "      <td>1</td>\n",
       "      <td>4</td>\n",
       "      <td>Y</td>\n",
       "      <td>0</td>\n",
       "      <td>2</td>\n",
       "      <td>10.757924</td>\n",
       "      <td>10.308986</td>\n",
       "      <td>-1.814637</td>\n",
       "    </tr>\n",
       "    <tr>\n",
       "      <th>3</th>\n",
       "      <td>16222</td>\n",
       "      <td>SCH</td>\n",
       "      <td>F</td>\n",
       "      <td>3.988984</td>\n",
       "      <td>N</td>\n",
       "      <td>N</td>\n",
       "      <td>0.000000</td>\n",
       "      <td>0</td>\n",
       "      <td>-2.057471</td>\n",
       "      <td>1.098612</td>\n",
       "      <td>...</td>\n",
       "      <td>3</td>\n",
       "      <td>9.210440</td>\n",
       "      <td>1</td>\n",
       "      <td>3</td>\n",
       "      <td>N</td>\n",
       "      <td>0</td>\n",
       "      <td>1</td>\n",
       "      <td>10.126671</td>\n",
       "      <td>10.212803</td>\n",
       "      <td>-1.993905</td>\n",
       "    </tr>\n",
       "    <tr>\n",
       "      <th>4</th>\n",
       "      <td>101655</td>\n",
       "      <td>GRD</td>\n",
       "      <td>M</td>\n",
       "      <td>3.891820</td>\n",
       "      <td>N</td>\n",
       "      <td>N</td>\n",
       "      <td>0.000000</td>\n",
       "      <td>1</td>\n",
       "      <td>-1.244723</td>\n",
       "      <td>0.693147</td>\n",
       "      <td>...</td>\n",
       "      <td>3</td>\n",
       "      <td>10.308986</td>\n",
       "      <td>1</td>\n",
       "      <td>4</td>\n",
       "      <td>Y</td>\n",
       "      <td>0</td>\n",
       "      <td>4</td>\n",
       "      <td>10.308986</td>\n",
       "      <td>10.308986</td>\n",
       "      <td>-1.988764</td>\n",
       "    </tr>\n",
       "  </tbody>\n",
       "</table>\n",
       "<p>5 rows × 22 columns</p>\n",
       "</div>"
      ],
      "text/plain": [
       "   client_id education sex       age car car_type  decline_app_cnt  good_work  \\\n",
       "0      25905       SCH   M  4.143135   Y        Y         0.000000          0   \n",
       "1      63161       SCH   F  4.094345   N        N         0.000000          0   \n",
       "2      25887       SCH   M  3.258097   Y        N         1.098612          0   \n",
       "3      16222       SCH   F  3.988984   N        N         0.000000          0   \n",
       "4     101655       GRD   M  3.891820   N        N         0.000000          1   \n",
       "\n",
       "   score_bki  bki_request_cnt  ...  work_address     income sna  first_time  \\\n",
       "0  -2.008753         0.693147  ...             2   9.798183   4           1   \n",
       "1  -1.532276         1.386294  ...             3   9.852247   4           1   \n",
       "2  -1.408142         0.693147  ...             2  10.308986   1           4   \n",
       "3  -2.057471         1.098612  ...             3   9.210440   1           3   \n",
       "4  -1.244723         0.693147  ...             3  10.308986   1           4   \n",
       "\n",
       "   foreign_passport  default month  mean_income_region mean_income_age  \\\n",
       "0                 N        0     2           10.126671        9.903538   \n",
       "1                 N        0     3           10.126671        9.998843   \n",
       "2                 Y        0     2           10.757924       10.308986   \n",
       "3                 N        0     1           10.126671       10.212803   \n",
       "4                 Y        0     4           10.308986       10.308986   \n",
       "\n",
       "   mean_bki_age  \n",
       "0     -1.981476  \n",
       "1     -1.994864  \n",
       "2     -1.814637  \n",
       "3     -1.993905  \n",
       "4     -1.988764  \n",
       "\n",
       "[5 rows x 22 columns]"
      ]
     },
     "execution_count": 85,
     "metadata": {},
     "output_type": "execute_result"
    }
   ],
   "source": [
    "df.head()"
   ]
  },
  {
   "cell_type": "code",
   "execution_count": 86,
   "id": "e1a6d45e-c428-4de0-b83d-f2d23066c034",
   "metadata": {},
   "outputs": [],
   "source": [
    "cat_cols = ['education', 'sex', 'car', 'car_type', 'good_work', 'home_address', 'work_address',\n",
    "       'foreign_passport', 'sna', 'month']"
   ]
  },
  {
   "cell_type": "code",
   "execution_count": 87,
   "id": "09ca403f-9d45-4752-aa21-e02a0f75333b",
   "metadata": {},
   "outputs": [
    {
     "data": {
      "text/plain": [
       "['age',\n",
       " 'decline_app_cnt',\n",
       " 'score_bki',\n",
       " 'bki_request_cnt',\n",
       " 'income',\n",
       " 'mean_income_region',\n",
       " 'mean_income_age',\n",
       " 'mean_bki_age']"
      ]
     },
     "execution_count": 87,
     "metadata": {},
     "output_type": "execute_result"
    }
   ],
   "source": [
    "num_cols = list(df.dtypes[df.dtypes == float].index) + list(df.dtypes[df.dtypes == int].index)[1:-1]\n",
    "num_cols"
   ]
  },
  {
   "cell_type": "markdown",
   "id": "a90c0e47-dd80-482d-8bd7-80360b4b9f4c",
   "metadata": {},
   "source": [
    "model\n"
   ]
  },
  {
   "cell_type": "code",
   "execution_count": 88,
   "id": "1fa2f230-4357-46d7-ad26-228b4fd5383b",
   "metadata": {},
   "outputs": [],
   "source": [
    "df_label = pd.get_dummies(df, columns=cat_cols,\n",
    "                          drop_first=True).drop('client_id', axis=1)"
   ]
  },
  {
   "cell_type": "code",
   "execution_count": 91,
   "id": "40f02cc6-4f96-46f6-bce3-ba1f15c1d820",
   "metadata": {},
   "outputs": [],
   "source": [
    "X = df_label.drop('default', axis=1)\n",
    "y = df_label['default']\n",
    "\n",
    "X_train, X_test, y_train, y_test = train_test_split(\n",
    "    X, y, test_size=0.25, stratify=y, shuffle=True, random_state=10)"
   ]
  },
  {
   "cell_type": "code",
   "execution_count": 92,
   "id": "bf92cf3d-1c1c-430e-a8a1-21392eaa4662",
   "metadata": {},
   "outputs": [],
   "source": [
    "lr = LogisticRegression(class_weight = 'balanced')\n",
    "lr.fit(X_train, y_train)\n",
    "\n",
    "y_pred = lr.predict(X_test)\n",
    "y_score = lr.predict_proba(X_test)[:,1]"
   ]
  },
  {
   "cell_type": "code",
   "execution_count": 93,
   "id": "797f2716-605e-43f2-8293-af5aaf0a013a",
   "metadata": {},
   "outputs": [
    {
     "name": "stdout",
     "output_type": "stream",
     "text": [
      "roc-auc: 0.7290790957537198\n",
      "precision: 0.23098845057747114\n",
      "recall: 0.6572769953051644\n",
      "f1: 0.34184239733629296\n",
      "logloss: 11.101303173866935\n"
     ]
    }
   ],
   "source": [
    "print('roc-auc:', roc_auc_score(y_test, y_score))\n",
    "print('precision:', precision_score(y_test, y_pred))\n",
    "print('recall:', recall_score(y_test, y_pred))\n",
    "print('f1:', f1_score(y_test, y_pred))\n",
    "print('logloss:', log_loss(y_test, y_pred))"
   ]
  },
  {
   "cell_type": "code",
   "execution_count": 94,
   "id": "c7617fc7-0152-4a92-ab7f-b5ec9af34ad8",
   "metadata": {},
   "outputs": [],
   "source": [
    "metrics = pd.DataFrame(\n",
    "    index=['roc-auc', 'precision', 'recall', 'f1', 'logloss'])\n",
    "\n",
    "metrics['Baseline_LR'] = [roc_auc_score(y_test, y_score),\n",
    "                          precision_score(y_test, y_pred),\n",
    "                          recall_score(y_test, y_pred),\n",
    "                          f1_score(y_test, y_pred),\n",
    "                          log_loss(y_test, y_pred)]"
   ]
  },
  {
   "cell_type": "code",
   "execution_count": 95,
   "id": "dab33fbd-abb4-49b1-b705-1a0ec9bde948",
   "metadata": {},
   "outputs": [
    {
     "data": {
      "image/png": "[encoded data removed]",
      "text/plain": [
       "<Figure size 432x288 with 1 Axes>"
      ]
     },
     "metadata": {
      "needs_background": "light"
     },
     "output_type": "display_data"
    }
   ],
   "source": [
    "fpr, tpr, thresholds = roc_curve(y_test, y_score)\n",
    "\n",
    "roc_auc = auc(fpr, tpr)\n",
    "\n",
    "plt.plot(fpr, tpr, color='darkorange', label='ROC curve (area = %0.2f)' % roc_auc)\n",
    "plt.plot([0, 1], [0, 1], color='navy', lw=2, linestyle='--')\n",
    "plt.xlim([0.0, 1.0])\n",
    "plt.ylim([0.0, 1.05])\n",
    "\n",
    "plt.xlabel('False Positive Rate')\n",
    "plt.ylabel('True Positive Rate')\n",
    "\n",
    "plt.title('Logistic Regression ROC AUC = %0.3f' % roc_auc)\n",
    "plt.legend(loc=\"lower right\")\n",
    "plt.show()\n"
   ]
  },
  {
   "cell_type": "code",
   "execution_count": 98,
   "id": "8938c59f-1733-49ff-b992-231c024a3225",
   "metadata": {},
   "outputs": [],
   "source": [
    "parameters_grid = {\n",
    "    'penalty': ['l1', 'l2', 'elasticnet'],\n",
    "    'C': np.linspace(1, 1000, num=5),\n",
    "    'solver': ['sag', 'saga', 'lbfgs'],\n",
    "    'l1_ratio': [0.25, 0.5, 0.75],\n",
    "    'max_iter': np.arange(100, 500, 100)\n",
    "}\n",
    "\n",
    "lr = LogisticRegression(class_weight='balanced')\n",
    "cv = StratifiedKFold(n_splits=3, shuffle=True)\n",
    "grid_cv = GridSearchCV(lr, parameters_grid,\n",
    "                       scoring='roc_auc', cv=cv, verbose=2)"
   ]
  },
  {
   "cell_type": "code",
   "execution_count": null,
   "id": "c64192fd-dfef-436c-959f-acac1c8a53b1",
   "metadata": {
    "collapsed": true,
    "jupyter": {
     "outputs_hidden": true
    },
    "tags": []
   },
   "outputs": [
    {
     "name": "stdout",
     "output_type": "stream",
     "text": [
      "Fitting 3 folds for each of 540 candidates, totalling 1620 fits\n",
      "[CV] END C=1.0, l1_ratio=0.25, max_iter=100, penalty=l1, solver=sag; total time=   0.0s\n",
      "[CV] END C=1.0, l1_ratio=0.25, max_iter=100, penalty=l1, solver=sag; total time=   0.0s\n",
      "[CV] END C=1.0, l1_ratio=0.25, max_iter=100, penalty=l1, solver=sag; total time=   0.0s\n",
      "[CV] END C=1.0, l1_ratio=0.25, max_iter=100, penalty=l1, solver=saga; total time=   4.7s\n",
      "[CV] END C=1.0, l1_ratio=0.25, max_iter=100, penalty=l1, solver=saga; total time=   5.1s\n",
      "[CV] END C=1.0, l1_ratio=0.25, max_iter=100, penalty=l1, solver=saga; total time=   4.8s\n",
      "[CV] END C=1.0, l1_ratio=0.25, max_iter=100, penalty=l1, solver=lbfgs; total time=   0.0s\n",
      "[CV] END C=1.0, l1_ratio=0.25, max_iter=100, penalty=l1, solver=lbfgs; total time=   0.0s\n",
      "[CV] END C=1.0, l1_ratio=0.25, max_iter=100, penalty=l1, solver=lbfgs; total time=   0.0s\n",
      "[CV] END C=1.0, l1_ratio=0.25, max_iter=100, penalty=l2, solver=sag; total time=   4.1s\n",
      "[CV] END C=1.0, l1_ratio=0.25, max_iter=100, penalty=l2, solver=sag; total time=   3.9s\n",
      "[CV] END C=1.0, l1_ratio=0.25, max_iter=100, penalty=l2, solver=sag; total time=   4.0s\n",
      "[CV] END C=1.0, l1_ratio=0.25, max_iter=100, penalty=l2, solver=saga; total time=   4.0s\n",
      "[CV] END C=1.0, l1_ratio=0.25, max_iter=100, penalty=l2, solver=saga; total time=   4.1s\n",
      "[CV] END C=1.0, l1_ratio=0.25, max_iter=100, penalty=l2, solver=saga; total time=   4.5s\n",
      "[CV] END C=1.0, l1_ratio=0.25, max_iter=100, penalty=l2, solver=lbfgs; total time=   1.0s\n",
      "[CV] END C=1.0, l1_ratio=0.25, max_iter=100, penalty=l2, solver=lbfgs; total time=   1.0s\n",
      "[CV] END C=1.0, l1_ratio=0.25, max_iter=100, penalty=l2, solver=lbfgs; total time=   1.1s\n",
      "[CV] END C=1.0, l1_ratio=0.25, max_iter=100, penalty=elasticnet, solver=sag; total time=   0.0s\n",
      "[CV] END C=1.0, l1_ratio=0.25, max_iter=100, penalty=elasticnet, solver=sag; total time=   0.0s\n",
      "[CV] END C=1.0, l1_ratio=0.25, max_iter=100, penalty=elasticnet, solver=sag; total time=   0.0s\n",
      "[CV] END C=1.0, l1_ratio=0.25, max_iter=100, penalty=elasticnet, solver=saga; total time=   4.6s\n",
      "[CV] END C=1.0, l1_ratio=0.25, max_iter=100, penalty=elasticnet, solver=saga; total time=   4.6s\n",
      "[CV] END C=1.0, l1_ratio=0.25, max_iter=100, penalty=elasticnet, solver=saga; total time=   4.6s\n",
      "[CV] END C=1.0, l1_ratio=0.25, max_iter=100, penalty=elasticnet, solver=lbfgs; total time=   0.0s\n",
      "[CV] END C=1.0, l1_ratio=0.25, max_iter=100, penalty=elasticnet, solver=lbfgs; total time=   0.0s\n",
      "[CV] END C=1.0, l1_ratio=0.25, max_iter=100, penalty=elasticnet, solver=lbfgs; total time=   0.0s\n",
      "[CV] END C=1.0, l1_ratio=0.25, max_iter=200, penalty=l1, solver=sag; total time=   0.0s\n",
      "[CV] END C=1.0, l1_ratio=0.25, max_iter=200, penalty=l1, solver=sag; total time=   0.0s\n",
      "[CV] END C=1.0, l1_ratio=0.25, max_iter=200, penalty=l1, solver=sag; total time=   0.0s\n",
      "[CV] END C=1.0, l1_ratio=0.25, max_iter=200, penalty=l1, solver=saga; total time=   8.5s\n",
      "[CV] END C=1.0, l1_ratio=0.25, max_iter=200, penalty=l1, solver=saga; total time=   8.9s\n",
      "[CV] END C=1.0, l1_ratio=0.25, max_iter=200, penalty=l1, solver=saga; total time=   9.2s\n",
      "[CV] END C=1.0, l1_ratio=0.25, max_iter=200, penalty=l1, solver=lbfgs; total time=   0.0s\n",
      "[CV] END C=1.0, l1_ratio=0.25, max_iter=200, penalty=l1, solver=lbfgs; total time=   0.0s\n",
      "[CV] END C=1.0, l1_ratio=0.25, max_iter=200, penalty=l1, solver=lbfgs; total time=   0.0s\n",
      "[CV] END C=1.0, l1_ratio=0.25, max_iter=200, penalty=l2, solver=sag; total time=   6.6s\n",
      "[CV] END C=1.0, l1_ratio=0.25, max_iter=200, penalty=l2, solver=sag; total time=   6.0s\n",
      "[CV] END C=1.0, l1_ratio=0.25, max_iter=200, penalty=l2, solver=sag; total time=   5.9s\n",
      "[CV] END C=1.0, l1_ratio=0.25, max_iter=200, penalty=l2, solver=saga; total time=   6.5s\n",
      "[CV] END C=1.0, l1_ratio=0.25, max_iter=200, penalty=l2, solver=saga; total time=   7.7s\n",
      "[CV] END C=1.0, l1_ratio=0.25, max_iter=200, penalty=l2, solver=saga; total time=   6.8s\n",
      "[CV] END C=1.0, l1_ratio=0.25, max_iter=200, penalty=l2, solver=lbfgs; total time=   1.7s\n",
      "[CV] END C=1.0, l1_ratio=0.25, max_iter=200, penalty=l2, solver=lbfgs; total time=   1.6s\n",
      "[CV] END C=1.0, l1_ratio=0.25, max_iter=200, penalty=l2, solver=lbfgs; total time=   1.7s\n",
      "[CV] END C=1.0, l1_ratio=0.25, max_iter=200, penalty=elasticnet, solver=sag; total time=   0.0s\n",
      "[CV] END C=1.0, l1_ratio=0.25, max_iter=200, penalty=elasticnet, solver=sag; total time=   0.0s\n",
      "[CV] END C=1.0, l1_ratio=0.25, max_iter=200, penalty=elasticnet, solver=sag; total time=   0.0s\n",
      "[CV] END C=1.0, l1_ratio=0.25, max_iter=200, penalty=elasticnet, solver=saga; total time=   8.2s\n",
      "[CV] END C=1.0, l1_ratio=0.25, max_iter=200, penalty=elasticnet, solver=saga; total time=   8.1s\n",
      "[CV] END C=1.0, l1_ratio=0.25, max_iter=200, penalty=elasticnet, solver=saga; total time=  10.3s\n",
      "[CV] END C=1.0, l1_ratio=0.25, max_iter=200, penalty=elasticnet, solver=lbfgs; total time=   0.0s\n",
      "[CV] END C=1.0, l1_ratio=0.25, max_iter=200, penalty=elasticnet, solver=lbfgs; total time=   0.0s\n",
      "[CV] END C=1.0, l1_ratio=0.25, max_iter=200, penalty=elasticnet, solver=lbfgs; total time=   0.0s\n",
      "[CV] END C=1.0, l1_ratio=0.25, max_iter=300, penalty=l1, solver=sag; total time=   0.0s\n",
      "[CV] END C=1.0, l1_ratio=0.25, max_iter=300, penalty=l1, solver=sag; total time=   0.0s\n",
      "[CV] END C=1.0, l1_ratio=0.25, max_iter=300, penalty=l1, solver=sag; total time=   0.0s\n",
      "[CV] END C=1.0, l1_ratio=0.25, max_iter=300, penalty=l1, solver=saga; total time=  12.8s\n",
      "[CV] END C=1.0, l1_ratio=0.25, max_iter=300, penalty=l1, solver=saga; total time=  12.8s\n"
     ]
    }
   ],
   "source": [
    "grid_cv.fit(X_train, y_train)"
   ]
  },
  {
   "cell_type": "code",
   "execution_count": null,
   "id": "f2b7048b-2cbf-4012-b9e1-9c6e45575201",
   "metadata": {},
   "outputs": [],
   "source": [
    "print(grid_cv.best_score_)\n",
    "print(grid_cv.best_params_)"
   ]
  },
  {
   "cell_type": "code",
   "execution_count": null,
   "id": "9e80e9ef-16ac-4907-8814-6e1ef20e2668",
   "metadata": {},
   "outputs": [],
   "source": [
    "best_params = {'C': 500.5, \n",
    "               'l1_ratio': 0.25,\n",
    "               'max_iter': 400, \n",
    "               'penalty': 'l2', \n",
    "               'solver': 'lbfgs'}"
   ]
  },
  {
   "cell_type": "code",
   "execution_count": null,
   "id": "58292bd4-ade1-4f77-ae53-36277e65c940",
   "metadata": {},
   "outputs": [],
   "source": [
    "lr_gr = LogisticRegression(**best_params, class_weight='balanced')\n",
    "lr_gr.fit(X_train, y_train)\n",
    "\n",
    "y_pred_gr = lr_gr.predict(X_test)\n",
    "y_score_gr = lr_gr.predict_proba(X_test)[:,1]"
   ]
  },
  {
   "cell_type": "code",
   "execution_count": null,
   "id": "ece10a91-bc1c-48f8-9451-7da7cd8f2d50",
   "metadata": {},
   "outputs": [],
   "source": [
    "print('roc-auc:', roc_auc_score(y_test, y_score_gr))\n",
    "print('precision:', precision_score(y_test, y_pred_gr))\n",
    "print('recall:', recall_score(y_test, y_pred_gr))\n",
    "print('f1:', f1_score(y_test, y_pred_gr))\n",
    "print('logloss:', log_loss(y_test, y_pred_gr)"
   ]
  },
  {
   "cell_type": "code",
   "execution_count": null,
   "id": "f51de6fb-b8bb-4b14-aa80-fe9283be5a21",
   "metadata": {},
   "outputs": [],
   "source": [
    "fpr_2, tpr_2, thresholds_2 = roc_curve(y_test, y_score_gr)\n",
    "\n",
    "roc_auc_2 = auc(fpr_2, tpr_2)\n",
    "\n",
    "plt.plot(fpr, tpr, color='darkorange', label='ROC curve (area = %0.2f)' % roc_auc)\n",
    "plt.plot(fpr_2, tpr_2, color='green', label='ROC curve (area = %0.2f)' % roc_auc_2)\n",
    "plt.plot([0, 1], [0, 1], color='navy', lw=2, linestyle='--')\n",
    "plt.xlim([0.0, 1.0])\n",
    "plt.ylim([0.0, 1.05])\n",
    "\n",
    "plt.xlabel('False Positive Rate')\n",
    "plt.ylabel('True Positive Rate')\n",
    "\n",
    "plt.title('Logistic Regression ROC AUC = %0.3f' % roc_auc)\n",
    "plt.legend(loc=\"lower right\")\n",
    "plt.show()"
   ]
  },
  {
   "cell_type": "code",
   "execution_count": null,
   "id": "b5cad860-b505-4a53-8ee6-cef76830e938",
   "metadata": {},
   "outputs": [],
   "source": [
    "metrics['Grid_LR'] = [roc_auc_score(y_test, y_score_gr),\n",
    "                      precision_score(y_test, y_pred_gr),\n",
    "                      recall_score(y_test, y_pred_gr),\n",
    "                      f1_score(y_test, y_pred_gr),\n",
    "                      log_loss(y_test, y_pred_gr)]\n",
    "\n"
   ]
  },
  {
   "cell_type": "code",
   "execution_count": null,
   "id": "08923d10-c89f-4b0c-8c6f-aecf760db114",
   "metadata": {},
   "outputs": [],
   "source": [
    "metrics[:-1].style.highlight_max(axis=1, color='lightblue')"
   ]
  },
  {
   "cell_type": "code",
   "execution_count": null,
   "id": "51e76414-a675-46e2-a22d-3a18749efa21",
   "metadata": {},
   "outputs": [],
   "source": []
  },
  {
   "cell_type": "code",
   "execution_count": null,
   "id": "bbd73fd4-e00b-4967-a0fa-a9de867470e8",
   "metadata": {},
   "outputs": [],
   "source": []
  },
  {
   "cell_type": "code",
   "execution_count": null,
   "id": "a3b0032e-cef5-46e4-a593-0bbc8854ecc2",
   "metadata": {},
   "outputs": [],
   "source": []
  },
  {
   "cell_type": "code",
   "execution_count": 4,
   "id": "07123914-fba8-42a0-b4e4-16caee6e0283",
   "metadata": {},
   "outputs": [
    {
     "name": "stdin",
     "output_type": "stream",
     "text": [
      " 5\n",
      " 3\n",
      " 0.668103249992\n",
      " 0.525906286805\n",
      " 0.0793836313371\n",
      " 0.986652106472\n",
      " 0.010960416731\n"
     ]
    }
   ],
   "source": [
    "n = int(input())\n",
    "k = int(input())\n",
    "a = [0]*n\n",
    "for i in range(n):\n",
    "    a[i] = float(input())"
   ]
  },
  {
   "cell_type": "code",
   "execution_count": 12,
   "id": "83313a18-70ea-4acd-9449-fa4f9b7d0e03",
   "metadata": {},
   "outputs": [
    {
     "data": {
      "text/plain": [
       "[0.997612523203, 0.997612523203, 0.997612523203]"
      ]
     },
     "execution_count": 12,
     "metadata": {},
     "output_type": "execute_result"
    }
   ],
   "source": [
    "m = 0\n",
    "for i in range():\n",
    "    for j in range()\n"
   ]
  },
  {
   "cell_type": "code",
   "execution_count": 13,
   "id": "0f0f658d-36a0-4ff1-bb10-a8bb61b8ccec",
   "metadata": {},
   "outputs": [
    {
     "name": "stdin",
     "output_type": "stream",
     "text": [
      " 10\n",
      " 6\n",
      " 1309 1584 1180 1762 1727 1152\n"
     ]
    },
    {
     "name": "stdout",
     "output_type": "stream",
     "text": [
      "1309 1584 1762\n"
     ]
    },
    {
     "name": "stdin",
     "output_type": "stream",
     "text": [
      " 4\n",
      " 1928 1346 1980 1507\n"
     ]
    },
    {
     "name": "stdout",
     "output_type": "stream",
     "text": [
      "1928 1346 1507\n"
     ]
    },
    {
     "ename": "KeyboardInterrupt",
     "evalue": "Interrupted by user",
     "output_type": "error",
     "traceback": [
      "\u001b[1;31m---------------------------------------------------------------------------\u001b[0m",
      "\u001b[1;31mKeyboardInterrupt\u001b[0m                         Traceback (most recent call last)",
      "\u001b[1;32m<ipython-input-13-760abb5192cf>\u001b[0m in \u001b[0;36m<module>\u001b[1;34m\u001b[0m\n\u001b[0;32m     32\u001b[0m                 \u001b[1;32mbreak\u001b[0m\u001b[1;33m\u001b[0m\u001b[1;33m\u001b[0m\u001b[0m\n\u001b[0;32m     33\u001b[0m \u001b[1;33m\u001b[0m\u001b[0m\n\u001b[1;32m---> 34\u001b[1;33m \u001b[0mtask\u001b[0m\u001b[1;33m(\u001b[0m\u001b[1;33m)\u001b[0m\u001b[1;33m\u001b[0m\u001b[1;33m\u001b[0m\u001b[0m\n\u001b[0m",
      "\u001b[1;32m<ipython-input-13-760abb5192cf>\u001b[0m in \u001b[0;36mtask\u001b[1;34m()\u001b[0m\n\u001b[0;32m     16\u001b[0m         \u001b[0mres\u001b[0m\u001b[1;33m=\u001b[0m\u001b[1;33m[\u001b[0m\u001b[1;33m]\u001b[0m\u001b[1;33m\u001b[0m\u001b[1;33m\u001b[0m\u001b[0m\n\u001b[0;32m     17\u001b[0m \u001b[1;33m\u001b[0m\u001b[0m\n\u001b[1;32m---> 18\u001b[1;33m         \u001b[0ml\u001b[0m\u001b[1;33m=\u001b[0m\u001b[0mint\u001b[0m\u001b[1;33m(\u001b[0m\u001b[0minput\u001b[0m\u001b[1;33m(\u001b[0m\u001b[1;33m)\u001b[0m\u001b[1;33m)\u001b[0m\u001b[1;33m\u001b[0m\u001b[1;33m\u001b[0m\u001b[0m\n\u001b[0m\u001b[0;32m     19\u001b[0m         \u001b[0minp\u001b[0m\u001b[1;33m=\u001b[0m\u001b[0mlist\u001b[0m\u001b[1;33m(\u001b[0m\u001b[0mmap\u001b[0m\u001b[1;33m(\u001b[0m\u001b[0mint\u001b[0m\u001b[1;33m,\u001b[0m\u001b[0minput\u001b[0m\u001b[1;33m(\u001b[0m\u001b[1;33m)\u001b[0m\u001b[1;33m.\u001b[0m\u001b[0msplit\u001b[0m\u001b[1;33m(\u001b[0m\u001b[1;33m)\u001b[0m\u001b[1;33m)\u001b[0m\u001b[1;33m)\u001b[0m\u001b[1;33m\u001b[0m\u001b[1;33m\u001b[0m\u001b[0m\n\u001b[0;32m     20\u001b[0m \u001b[1;33m\u001b[0m\u001b[0m\n",
      "\u001b[1;32mc:\\users\\saplat\\appdata\\local\\programs\\python\\python39\\lib\\site-packages\\ipykernel\\kernelbase.py\u001b[0m in \u001b[0;36mraw_input\u001b[1;34m(self, prompt)\u001b[0m\n\u001b[0;32m    846\u001b[0m                 \u001b[1;34m\"raw_input was called, but this frontend does not support input requests.\"\u001b[0m\u001b[1;33m\u001b[0m\u001b[1;33m\u001b[0m\u001b[0m\n\u001b[0;32m    847\u001b[0m             )\n\u001b[1;32m--> 848\u001b[1;33m         return self._input_request(str(prompt),\n\u001b[0m\u001b[0;32m    849\u001b[0m             \u001b[0mself\u001b[0m\u001b[1;33m.\u001b[0m\u001b[0m_parent_ident\u001b[0m\u001b[1;33m,\u001b[0m\u001b[1;33m\u001b[0m\u001b[1;33m\u001b[0m\u001b[0m\n\u001b[0;32m    850\u001b[0m             \u001b[0mself\u001b[0m\u001b[1;33m.\u001b[0m\u001b[0m_parent_header\u001b[0m\u001b[1;33m,\u001b[0m\u001b[1;33m\u001b[0m\u001b[1;33m\u001b[0m\u001b[0m\n",
      "\u001b[1;32mc:\\users\\saplat\\appdata\\local\\programs\\python\\python39\\lib\\site-packages\\ipykernel\\kernelbase.py\u001b[0m in \u001b[0;36m_input_request\u001b[1;34m(self, prompt, ident, parent, password)\u001b[0m\n\u001b[0;32m    890\u001b[0m             \u001b[1;32mexcept\u001b[0m \u001b[0mKeyboardInterrupt\u001b[0m\u001b[1;33m:\u001b[0m\u001b[1;33m\u001b[0m\u001b[1;33m\u001b[0m\u001b[0m\n\u001b[0;32m    891\u001b[0m                 \u001b[1;31m# re-raise KeyboardInterrupt, to truncate traceback\u001b[0m\u001b[1;33m\u001b[0m\u001b[1;33m\u001b[0m\u001b[1;33m\u001b[0m\u001b[0m\n\u001b[1;32m--> 892\u001b[1;33m                 \u001b[1;32mraise\u001b[0m \u001b[0mKeyboardInterrupt\u001b[0m\u001b[1;33m(\u001b[0m\u001b[1;34m\"Interrupted by user\"\u001b[0m\u001b[1;33m)\u001b[0m \u001b[1;32mfrom\u001b[0m \u001b[1;32mNone\u001b[0m\u001b[1;33m\u001b[0m\u001b[1;33m\u001b[0m\u001b[0m\n\u001b[0m\u001b[0;32m    893\u001b[0m             \u001b[1;32mexcept\u001b[0m \u001b[0mException\u001b[0m \u001b[1;32mas\u001b[0m \u001b[0me\u001b[0m\u001b[1;33m:\u001b[0m\u001b[1;33m\u001b[0m\u001b[1;33m\u001b[0m\u001b[0m\n\u001b[0;32m    894\u001b[0m                 \u001b[0mself\u001b[0m\u001b[1;33m.\u001b[0m\u001b[0mlog\u001b[0m\u001b[1;33m.\u001b[0m\u001b[0mwarning\u001b[0m\u001b[1;33m(\u001b[0m\u001b[1;34m\"Invalid Message:\"\u001b[0m\u001b[1;33m,\u001b[0m \u001b[0mexc_info\u001b[0m\u001b[1;33m=\u001b[0m\u001b[1;32mTrue\u001b[0m\u001b[1;33m)\u001b[0m\u001b[1;33m\u001b[0m\u001b[1;33m\u001b[0m\u001b[0m\n",
      "\u001b[1;31mKeyboardInterrupt\u001b[0m: Interrupted by user"
     ]
    }
   ],
   "source": [
    "def task():\n",
    "    \n",
    "    def chk(arr):\n",
    "        d={}\n",
    "        for x in arr:\n",
    "            while (x>0):\n",
    "                p=x%10\n",
    "                if d.get(p) is None:\n",
    "                    d[p]=1\n",
    "                x=x//10\n",
    "        return len(d)==10\n",
    "        \n",
    "    n=int(input())\n",
    " \n",
    "    for _ in range(n):\n",
    "        res=[]\n",
    " \n",
    "        l=int(input())\n",
    "        inp=list(map(int,input().split()))\n",
    " \n",
    "        f=False\n",
    "        for i in range(l-3):\n",
    "            for j in range(i+1,l-2):\n",
    "                for k in range(j+1,l):\n",
    "                    if chk([inp[i],inp[j],inp[k]]):\n",
    "                        print(inp[i],inp[j],inp[k])\n",
    "                        f=True\n",
    "                        break\n",
    "                if f:\n",
    "                    break\n",
    "            if f:\n",
    "                break\n",
    " \n",
    "task()"
   ]
  },
  {
   "cell_type": "code",
   "execution_count": null,
   "id": "67099143-f00a-4e05-ad37-91193cd22c50",
   "metadata": {},
   "outputs": [],
   "source": [
    "def fun(nums, k):\n",
    "    for i1 in range(k-2):\n",
    "        \n",
    "        for i2 in range(i1+1, k-1):\n",
    "            s1 = set(nums[i1]) | set(nums[i2])\n",
    "            if len(s1) < 6:\n",
    "                continue\n",
    "                \n",
    "            for i3 in range(i2+1, k):\n",
    "                if len(s1 | set(nums[i3])) == 10:\n",
    "                    return (nums[i1], nums[i2], nums[i3])\n",
    "n = int(input())\n",
    " \n",
    "for i in range(n):\n",
    "    m = int(input())\n",
    "    lst = sorted(input().split(), key=lambda x: -len(set(x)))\n",
    "            \n",
    "    print(*fun(lst, m))"
   ]
  },
  {
   "cell_type": "code",
   "execution_count": 14,
   "id": "7851b4b3-7fd9-4ab2-9a9b-76815a78bb03",
   "metadata": {},
   "outputs": [],
   "source": []
  },
  {
   "cell_type": "code",
   "execution_count": 17,
   "id": "054ab579-a4ec-4270-afab-222ed4df163b",
   "metadata": {},
   "outputs": [],
   "source": [
    "def soch(n, k):\n",
    "    if 0 <= k <= n:\n",
    "        nn = 1\n",
    "        kk = 1\n",
    "        for t in range(1, min(k, n - k) + 1):\n",
    "            nn *= n\n",
    "            kk *= t\n",
    "            n -= 1\n",
    "        return nn // kk\n",
    "    else:\n",
    "        return 0"
   ]
  },
  {
   "cell_type": "code",
   "execution_count": 11,
   "id": "8dbf3501-1ac2-4d0a-917f-b7caf0a3421f",
   "metadata": {},
   "outputs": [],
   "source": []
  },
  {
   "cell_type": "code",
   "execution_count": 13,
   "id": "e4ee9503-a8f6-45ed-984e-901246976484",
   "metadata": {},
   "outputs": [
    {
     "ename": "NameError",
     "evalue": "name 'C' is not defined",
     "output_type": "error",
     "traceback": [
      "\u001b[1;31m---------------------------------------------------------------------------\u001b[0m",
      "\u001b[1;31mNameError\u001b[0m                                 Traceback (most recent call last)",
      "\u001b[1;32m<ipython-input-13-e1913b3ebd2c>\u001b[0m in \u001b[0;36m<module>\u001b[1;34m\u001b[0m\n\u001b[1;32m----> 1\u001b[1;33m \u001b[0mprint\u001b[0m\u001b[1;33m(\u001b[0m\u001b[0mC\u001b[0m\u001b[1;33m(\u001b[0m\u001b[1;36m5\u001b[0m\u001b[1;33m,\u001b[0m\u001b[1;36m2\u001b[0m\u001b[1;33m)\u001b[0m\u001b[1;33m)\u001b[0m\u001b[1;33m\u001b[0m\u001b[1;33m\u001b[0m\u001b[0m\n\u001b[0m",
      "\u001b[1;31mNameError\u001b[0m: name 'C' is not defined"
     ]
    }
   ],
   "source": []
  },
  {
   "cell_type": "code",
   "execution_count": null,
   "id": "d85aa4d0-28a9-4335-b436-03bd918ef889",
   "metadata": {},
   "outputs": [],
   "source": [
    "def soch(n, k):\n",
    "    if 0 <= k <= n:\n",
    "        nn = 1\n",
    "        kk = 1\n",
    "        for t in range(1, min(k, n - k) + 1):\n",
    "            nn *= n\n",
    "            kk *= t\n",
    "            n -= 1\n",
    "        return nn // kk\n",
    "    else:\n",
    "        return 0\n",
    "    \n",
    "t = int(input())\n",
    "for _ in range(t):\n",
    "    k,x,y,u,v,a,b = map(int,input().split())\n",
    "    p_p  = (y-x+1)/37\n",
    "    p_v  = (v-u+1)/37\n",
    "\n",
    "    pd_p = 1 - p_p\n",
    "    pd_v = 1 - p_v\n",
    "\n",
    "    p_so = soch(k,a)\n",
    "    v_so = soch(k,b)\n",
    "    \n",
    "    PP = p_so * (p_p**a) * (pd_p**(k-a))\n",
    "    PV = v_so * (p_v**b) * (pd_v**(k-b))\n",
    "    print(PP*PV)\n"
   ]
  },
  {
   "cell_type": "code",
   "execution_count": null,
   "id": "3b571a15-0fe5-4a67-8193-979f61fcab46",
   "metadata": {},
   "outputs": [],
   "source": [
    "p_p  = (y-x+1)/37\n",
    "p_v  = (u-v+1)/37\n",
    "\n",
    "pd_p = 1 - p_p\n",
    "pd_v = 1 - p_v\n"
   ]
  },
  {
   "cell_type": "code",
   "execution_count": null,
   "id": "45a99166-d743-461d-8cbd-d6dece7206a1",
   "metadata": {},
   "outputs": [],
   "source": []
  },
  {
   "cell_type": "code",
   "execution_count": null,
   "id": "fbdd6b5a-910f-4ed0-9865-80407f2fd8fb",
   "metadata": {},
   "outputs": [],
   "source": []
  },
  {
   "cell_type": "code",
   "execution_count": 34,
   "id": "c29558cb-dee6-4e53-a5a1-390025dc8d11",
   "metadata": {},
   "outputs": [
    {
     "name": "stdin",
     "output_type": "stream",
     "text": [
      " 5\n",
      " 3\n",
      "   0.668103249992\n",
      "   0.525906286805\n",
      "   0.0793836313371\n",
      "   0.986652106472\n",
      "   0.010960416731\n"
     ]
    }
   ],
   "source": [
    "n = int(input())\n",
    "k = int(input())\n",
    "a = [0]*n\n",
    "for i in range(n):\n",
    "    a[i] = float(input())"
   ]
  },
  {
   "cell_type": "code",
   "execution_count": 37,
   "id": "9ed72c69-0a05-4ee7-b10e-0caaa2e65d5a",
   "metadata": {},
   "outputs": [
    {
     "name": "stdout",
     "output_type": "stream",
     "text": [
      "0 2\n",
      "0.997612523203\n"
     ]
    }
   ],
   "source": [
    "\n",
    "M=0\n",
    "ans = a[0]\n",
    "ans_l = 0\n",
    "ans_r = 0\n",
    "summ = 0\n",
    "minus_pos = -1\n",
    "\n",
    "for i in range(n):\n",
    "    summ += a[i]\n",
    "    if summ > ans:\n",
    "        ans = summ\n",
    "        ans_l = minus_pos+1\n",
    "        ans_r = i\n",
    "    if summ < 0:\n",
    "        summ = 0\n",
    "        minus_pos = r\n",
    "\n",
    "for i in range(n):\n",
    "    if i < ans_l or i > ans_r:\n",
    "        M+=a[i]\n",
    "print(ans_l,ans_r)\n",
    "print(M)"
   ]
  },
  {
   "cell_type": "code",
   "execution_count": null,
   "id": "679ed954-73ec-4650-b515-ce4b4d5fc168",
   "metadata": {},
   "outputs": [],
   "source": [
    " 5\n",
    " 3\n",
    " 0.668103249992\n",
    " 0.525906286805\n",
    " 0.0793836313371\n",
    " 0.986652106472\n",
    " 0.010960416731\n",
    "\n",
    "int ans = a[0],\n",
    "\tans_l = 0,\n",
    "\tans_r = 0,\n",
    "\tsum = 0,\n",
    "\tmin_sum = 0,\n",
    "\tmin_pos = -1;\n",
    "for (int r=0; r<n; ++r) {\n",
    "\tsum += a[r];\n",
    " \n",
    "\tint cur = sum - min_sum;\n",
    "\tif (cur > ans) {\n",
    "\t\tans = cur;\n",
    "\t\tans_l = min_pos + 1;\n",
    "\t\tans_r = r;\n",
    "\t}\n",
    " \n",
    "\tif (sum < min_sum) {\n",
    "\t\tmin_sum = sum;\n",
    "\t\tmin_pos = r;"
   ]
  },
  {
   "cell_type": "code",
   "execution_count": 31,
   "id": "791270fd-6273-486c-a09c-66290086edfb",
   "metadata": {},
   "outputs": [
    {
     "name": "stdin",
     "output_type": "stream",
     "text": [
      " 5\n",
      " 3\n",
      "  0.668103249992\n",
      "  0.525906286805\n",
      "  0.0793836313371\n",
      "  0.986652106472\n",
      "  0.010960416731\n"
     ]
    },
    {
     "ename": "NameError",
     "evalue": "name 'l' is not defined",
     "output_type": "error",
     "traceback": [
      "\u001b[1;31m---------------------------------------------------------------------------\u001b[0m",
      "\u001b[1;31mNameError\u001b[0m                                 Traceback (most recent call last)",
      "\u001b[1;32m<ipython-input-31-afa46717462f>\u001b[0m in \u001b[0;36m<module>\u001b[1;34m\u001b[0m\n\u001b[0;32m     20\u001b[0m     \u001b[1;32melse\u001b[0m\u001b[1;33m:\u001b[0m\u001b[1;33m\u001b[0m\u001b[1;33m\u001b[0m\u001b[0m\n\u001b[0;32m     21\u001b[0m         \u001b[0mc\u001b[0m\u001b[1;33m[\u001b[0m\u001b[0mi\u001b[0m\u001b[1;33m]\u001b[0m \u001b[1;33m=\u001b[0m \u001b[0ma\u001b[0m\u001b[1;33m[\u001b[0m\u001b[0mi\u001b[0m\u001b[1;33m]\u001b[0m\u001b[1;33m\u001b[0m\u001b[1;33m\u001b[0m\u001b[0m\n\u001b[1;32m---> 22\u001b[1;33m \u001b[0mprint\u001b[0m\u001b[1;33m(\u001b[0m\u001b[0mmax\u001b[0m\u001b[1;33m(\u001b[0m\u001b[0mc\u001b[0m\u001b[1;33m[\u001b[0m\u001b[0ml\u001b[0m\u001b[1;33m]\u001b[0m\u001b[1;33m,\u001b[0m\u001b[0mc\u001b[0m\u001b[1;33m[\u001b[0m\u001b[0ml\u001b[0m\u001b[1;33m+\u001b[0m\u001b[0mk\u001b[0m\u001b[1;33m-\u001b[0m\u001b[1;36m1\u001b[0m\u001b[1;33m]\u001b[0m\u001b[1;33m)\u001b[0m\u001b[1;33m)\u001b[0m\u001b[1;33m\u001b[0m\u001b[1;33m\u001b[0m\u001b[0m\n\u001b[0m",
      "\u001b[1;31mNameError\u001b[0m: name 'l' is not defined"
     ]
    }
   ],
   "source": [
    "n = int(input())\n",
    "k = int(input())\n",
    "l = \n",
    "a = [0]*n\n",
    "b = [0]*n\n",
    "c = [0]*n\n",
    "\n",
    "for i in range(n):\n",
    "    a[i] = float(input())\n",
    "M=0\n",
    "\n",
    "for i in range(n):\n",
    "    if i % k:\n",
    "        b[i] = max(a[i],b[i-1])\n",
    "    else:\n",
    "        b[i] = a[i]\n",
    "\n",
    "for i in range(n-2,0,-1):\n",
    "    if (i+1) % k:\n",
    "        c[i] = max(a[i],c[i+1])\n",
    "    else:\n",
    "        c[i] = a[i]\n",
    "print(max(c[l],c[l+k-1]))\n"
   ]
  },
  {
   "cell_type": "code",
   "execution_count": 1,
   "id": "01155c46-6043-47a5-9d2e-c9fb53b43eda",
   "metadata": {},
   "outputs": [
    {
     "name": "stdin",
     "output_type": "stream",
     "text": [
      " 5\n",
      " 3\n",
      " 0.668103249992\n",
      " 0.525906286805\n",
      " 0.0793836313371\n",
      " 0.986652106472\n",
      " 0.010960416731\n"
     ]
    }
   ],
   "source": [
    "n = int(input())\n",
    "k = int(input())\n",
    "a = [float(input()) for i in range(n)]"
   ]
  },
  {
   "cell_type": "code",
   "execution_count": 10,
   "id": "28ae64e0-7c80-4342-a5e9-d02840f85f32",
   "metadata": {},
   "outputs": [
    {
     "name": "stdout",
     "output_type": "stream",
     "text": [
      "1\n",
      "1\n",
      "1\n",
      "1.5919420246141\n",
      "0.679063666723\n"
     ]
    }
   ],
   "source": [
    "maxs = -1\n",
    "x = 0\n",
    "l=-1\n",
    "r=-1\n",
    "M=100\n",
    "m=0\n",
    "for i in range(k):\n",
    "    print(1)\n",
    "    for j in range(x,n-k+1):\n",
    "\n",
    "        if sum(a[x:x+k]) >maxs:\n",
    "            maxs = sum(a[x:x+k])\n",
    "            for t in range(0,x):\n",
    "                m +=a[t] \n",
    "            for t in range(x+k,n):\n",
    "                m += a[t]\n",
    "            if m < M:\n",
    "                M = m\n",
    "            m = 0\n",
    "        x+=1\n",
    "print(maxs)\n",
    "print(M)"
   ]
  },
  {
   "cell_type": "code",
   "execution_count": 8,
   "id": "67d0e190-453a-4084-808b-d26a2c136f30",
   "metadata": {},
   "outputs": [
    {
     "data": {
      "text/plain": [
       "1.5919420246140998"
      ]
     },
     "execution_count": 8,
     "metadata": {},
     "output_type": "execute_result"
    }
   ],
   "source": [
    " 0.986652106472+ 0.525906286805+ 0.0793836313371\n",
    "    "
   ]
  },
  {
   "cell_type": "code",
   "execution_count": 28,
   "id": "6d39eea8-2fae-4a27-9c61-1e732ec31395",
   "metadata": {},
   "outputs": [
    {
     "name": "stdout",
     "output_type": "stream",
     "text": [
      "4\n"
     ]
    }
   ],
   "source": [
    "f = open('untitled.txt')\n",
    "a = []\n",
    "for i in f.read().split():\n",
    "    if i not in a:\n",
    "        a.append(i)\n",
    "\n",
    "print(len(a))"
   ]
  },
  {
   "cell_type": "code",
   "execution_count": null,
   "id": "9658fb70-c594-4ad3-9224-064f878ebe0f",
   "metadata": {},
   "outputs": [],
   "source": []
  }
 ],
 "metadata": {
  "kernelspec": {
   "display_name": "Python 3",
   "language": "python",
   "name": "python3"
  },
  "language_info": {
   "codemirror_mode": {
    "name": "ipython",
    "version": 3
   },
   "file_extension": ".py",
   "mimetype": "text/x-python",
   "name": "python",
   "nbconvert_exporter": "python",
   "pygments_lexer": "ipython3",
   "version": "3.9.0"
  }
 },
 "nbformat": 4,
 "nbformat_minor": 5
}
